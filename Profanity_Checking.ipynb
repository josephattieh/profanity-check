{
  "cells": [
    {
      "cell_type": "markdown",
      "source": [
        "# Profanity Detection using Machine Learning"
      ],
      "metadata": {
        "id": "NjroilA0Mssl"
      }
    },
    {
      "cell_type": "markdown",
      "source": [
        "## Prerequisites"
      ],
      "metadata": {
        "id": "xVPqOiulNIez"
      }
    },
    {
      "cell_type": "markdown",
      "source": [
        "Mounting the folder where datasets are located"
      ],
      "metadata": {
        "id": "072TNRITNMbp"
      }
    },
    {
      "cell_type": "code",
      "execution_count": null,
      "metadata": {
        "colab": {
          "base_uri": "https://localhost:8080/"
        },
        "id": "iGTarjITADVg",
        "outputId": "5578cd08-31a8-4533-ea19-3e1fe8185584"
      },
      "outputs": [
        {
          "output_type": "stream",
          "name": "stdout",
          "text": [
            "Drive already mounted at /content/drive; to attempt to forcibly remount, call drive.mount(\"/content/drive\", force_remount=True).\n"
          ]
        }
      ],
      "source": [
        "from google.colab import drive\n",
        "import torch, os\n",
        "drive.mount('/content/drive')\n",
        "device = torch.device(\"cuda\")\n",
        "os.chdir('/content/drive/MyDrive/Final Project')"
      ]
    },
    {
      "cell_type": "markdown",
      "source": [
        "Installing required libraries"
      ],
      "metadata": {
        "id": "zUnhrIOfRffY"
      }
    },
    {
      "cell_type": "code",
      "execution_count": null,
      "metadata": {
        "colab": {
          "base_uri": "https://localhost:8080/"
        },
        "id": "FzBBgP_diWrK",
        "outputId": "a42ac9b4-2dc8-4c3e-9bdd-6cfb576795e2"
      },
      "outputs": [
        {
          "output_type": "stream",
          "name": "stdout",
          "text": [
            "Requirement already satisfied: transformers in /usr/local/lib/python3.7/dist-packages (4.15.0)\n",
            "Requirement already satisfied: filelock in /usr/local/lib/python3.7/dist-packages (from transformers) (3.4.0)\n",
            "Requirement already satisfied: tokenizers<0.11,>=0.10.1 in /usr/local/lib/python3.7/dist-packages (from transformers) (0.10.3)\n",
            "Requirement already satisfied: importlib-metadata in /usr/local/lib/python3.7/dist-packages (from transformers) (4.8.2)\n",
            "Requirement already satisfied: pyyaml>=5.1 in /usr/local/lib/python3.7/dist-packages (from transformers) (6.0)\n",
            "Requirement already satisfied: sacremoses in /usr/local/lib/python3.7/dist-packages (from transformers) (0.0.46)\n",
            "Requirement already satisfied: tqdm>=4.27 in /usr/local/lib/python3.7/dist-packages (from transformers) (4.62.3)\n",
            "Requirement already satisfied: requests in /usr/local/lib/python3.7/dist-packages (from transformers) (2.23.0)\n",
            "Requirement already satisfied: huggingface-hub<1.0,>=0.1.0 in /usr/local/lib/python3.7/dist-packages (from transformers) (0.2.1)\n",
            "Requirement already satisfied: regex!=2019.12.17 in /usr/local/lib/python3.7/dist-packages (from transformers) (2019.12.20)\n",
            "Requirement already satisfied: numpy>=1.17 in /usr/local/lib/python3.7/dist-packages (from transformers) (1.19.5)\n",
            "Requirement already satisfied: packaging>=20.0 in /usr/local/lib/python3.7/dist-packages (from transformers) (21.3)\n",
            "Requirement already satisfied: typing-extensions>=3.7.4.3 in /usr/local/lib/python3.7/dist-packages (from huggingface-hub<1.0,>=0.1.0->transformers) (3.10.0.2)\n",
            "Requirement already satisfied: pyparsing!=3.0.5,>=2.0.2 in /usr/local/lib/python3.7/dist-packages (from packaging>=20.0->transformers) (3.0.6)\n",
            "Requirement already satisfied: zipp>=0.5 in /usr/local/lib/python3.7/dist-packages (from importlib-metadata->transformers) (3.6.0)\n",
            "Requirement already satisfied: idna<3,>=2.5 in /usr/local/lib/python3.7/dist-packages (from requests->transformers) (2.10)\n",
            "Requirement already satisfied: chardet<4,>=3.0.2 in /usr/local/lib/python3.7/dist-packages (from requests->transformers) (3.0.4)\n",
            "Requirement already satisfied: certifi>=2017.4.17 in /usr/local/lib/python3.7/dist-packages (from requests->transformers) (2021.10.8)\n",
            "Requirement already satisfied: urllib3!=1.25.0,!=1.25.1,<1.26,>=1.21.1 in /usr/local/lib/python3.7/dist-packages (from requests->transformers) (1.24.3)\n",
            "Requirement already satisfied: six in /usr/local/lib/python3.7/dist-packages (from sacremoses->transformers) (1.15.0)\n",
            "Requirement already satisfied: click in /usr/local/lib/python3.7/dist-packages (from sacremoses->transformers) (7.1.2)\n",
            "Requirement already satisfied: joblib in /usr/local/lib/python3.7/dist-packages (from sacremoses->transformers) (1.1.0)\n",
            "Requirement already satisfied: liac-arff in /usr/local/lib/python3.7/dist-packages (2.5.0)\n",
            "Requirement already satisfied: sentencepiece in /usr/local/lib/python3.7/dist-packages (0.1.96)\n"
          ]
        }
      ],
      "source": [
        "!pip install transformers\n",
        "!pip install   liac-arff \n",
        "os.environ['CUDA_LAUNCH_BLOCKING'] = \"1\"\n",
        "!pip install sentencepiece\n"
      ]
    },
    {
      "cell_type": "markdown",
      "source": [
        "Importing the requirements"
      ],
      "metadata": {
        "id": "S1xe_Xy3Rjkg"
      }
    },
    {
      "cell_type": "code",
      "source": [
        "import os, pandas as pd, numpy as np, arff\n",
        "import pickle\n",
        "import pandas as pd\n",
        "import matplotlib.pyplot as plt\n",
        "from collections import Counter\n",
        "\n",
        "from sklearn.datasets import make_classification\n",
        "from imblearn.over_sampling import RandomOverSampler\n",
        "from imblearn.under_sampling import RandomUnderSampler\n",
        "\n",
        "import torch\n",
        "import torch.nn as nn\n",
        "import torch.nn.functional as F\n",
        "import torch.optim as optim\n",
        "from torch.utils.data.sampler import SubsetRandomSampler,BatchSampler\n",
        "from torch.utils.data import TensorDataset, ConcatDataset, DataLoader, RandomSampler, SequentialSampler\n",
        "\n",
        "import transformers\n",
        "from transformers import AdamW\n",
        "from transformers import BertTokenizer, BertModel, XLMRobertaTokenizerFast\n",
        "from transformers import get_linear_schedule_with_warmup\n",
        "\n",
        "#XLM-Roberta\n",
        "from transformers import AutoTokenizer \n",
        "from transformers import XLMRobertaTokenizer, XLMRobertaForSequenceClassification\n",
        "from transformers import XLMRobertaForSequenceClassification"
      ],
      "metadata": {
        "id": "Kpw4B9x3NSnu"
      },
      "execution_count": null,
      "outputs": []
    },
    {
      "cell_type": "markdown",
      "source": [
        "## Preparing the data"
      ],
      "metadata": {
        "id": "iU3ONYnRRvMn"
      }
    },
    {
      "cell_type": "markdown",
      "source": [
        "Define functions for loading all the selected datasets with the same structure. All functions return the training and test sets seperately. Stratified splitting strategy has been applied to ensure that equal amounts of hateful and non-hateful inputs appear across both training and test sets."
      ],
      "metadata": {
        "id": "apoVJskqR0e1"
      }
    },
    {
      "cell_type": "code",
      "execution_count": null,
      "metadata": {
        "id": "ydb4xUEJix5G"
      },
      "outputs": [],
      "source": [
        "def LoadAntiSocialArabic():\n",
        "\n",
        "  df2 = pd.read_excel(\"Arabic/antisocial-arabic/LabeledDataset.xlsx\")\n",
        "  df = pd.DataFrame()\n",
        "  df[\"input\"] = df2[\"commentText\"]\n",
        "  df['hate'] = df2['Label'].map(lambda x: 1 if x=='P' else 0)\n",
        "  df =df.dropna()\n",
        "  df = df[[\"input\", 'hate']]\n",
        "  X_train, y_train, X_test, y_test = split(df)\n",
        "  return X_train, y_train, X_test, y_test\n",
        "\n",
        "def split(dataframe):\n",
        "  from sklearn.model_selection import StratifiedShuffleSplit\n",
        "  dataframe = dataframe.reset_index()\n",
        "  X = dataframe['input']\n",
        "  y=dataframe['hate']\n",
        "  sss = StratifiedShuffleSplit(n_splits=1, test_size=0.3, random_state=0)\n",
        "  splits = sss.split(X, y)\n",
        "  for a, b in splits:\n",
        "    train_index, test_index = a, b\n",
        "    break\n",
        "  X_train, y_train, X_test, y_test =  X[train_index].tolist(), y[train_index].tolist(),X[test_index].tolist(), y[test_index].tolist()\n",
        "  #X_train, y_train = fixImbalance (X_train, y_train)\n",
        "  \n",
        "  return X_train, y_train, X_test, y_test \n",
        "\n",
        "def fixImbalance(X, y):\n",
        "  # here, we are mainly oversampling since sampling strategy is 1 and oversampler is appied before\n",
        "\n",
        "  # instantiating over and under sampler\n",
        "  over = RandomOverSampler(sampling_strategy=1)\n",
        "  under = RandomUnderSampler(sampling_strategy=1)\n",
        "  # first performing oversampling to minority class\n",
        "  \n",
        "  X_over, y_over = over.fit_resample(np.array(X).reshape(-1, 1), np.array(y).reshape(-1, 1))\n",
        "  X_combined_sampling, y_combined_sampling = under.fit_resample(X_over, y_over)\n",
        "  return X_combined_sampling.flatten().tolist(), y_combined_sampling.flatten().tolist()\n",
        "\n",
        "def LoadOffenseEval2020_Arabic():\n",
        "\n",
        "  labels = pd.read_csv(\"./Arabic/offenseval2020-arabic/offenseval-ar-testset-v1/offenseval-ar-labela-v1.csv\")\n",
        "  labels = pd.concat([labels, pd.DataFrame([labels.columns], columns = labels.columns) ])\n",
        "  labels =labels.reset_index()[labels.columns]\n",
        "  labels.columns = ['id', 'hate']\n",
        "  labels.index = labels['id'].astype(int).tolist()\n",
        "  labels =labels.sort_index()\n",
        "\n",
        "\n",
        "  train = pd.read_csv(\"./Arabic/offenseval2020-arabic/offenseval-ar-training-v1/offenseval-ar-training-v1.tsv\",  sep='\\t')\n",
        "  train = train[[\"tweet\", \"subtask_a\"]]\n",
        "  train.columns =[\"input\", 'hate']\n",
        "  train['hate'] = train['hate'].map(lambda x: 1 if x =='OFF' else 0)\n",
        "  test = pd.read_csv(\"./Arabic/offenseval2020-arabic/offenseval-ar-testset-v1/offenseval-ar-test-v1.tsv\",  sep='\\t')\n",
        "\n",
        "  test.index = test['id'].astype(int).tolist()\n",
        "  test = test.sort_index()\n",
        "  test['hate'] = labels['hate']\n",
        "  test['hate']=pd.concat([test,labels], keys=['id'])[\"hate\"]['id']\n",
        "  test['hate'] = test['hate'].map(lambda x: 1 if x =='OFF' else 0)\n",
        "\n",
        "  test.columns = ['id', 'input', 'hate']\n",
        "  \n",
        "  X_train, y_train, X_test, y_test =  train['input'].tolist(),  train['hate'].tolist(),test['input'].tolist(),  test['hate'].tolist()\n",
        "  return X_train, y_train, X_test, y_test\n",
        "\n",
        "def LoadOffenseEval2020_Dannish():\n",
        "  train = pd.read_csv(\"./Dannish/offenseval2020-dannish/oe20da_data/offenseval-da-training-v1.tsv\", sep='\\t')\n",
        "  train['hate'] = train['subtask_a'].map(lambda x: 1 if x=='OFF' else 0)\n",
        "  train['input'] = train['tweet']\n",
        "  train = train.dropna().reset_index()\n",
        "  train = train[['input', 'hate']]\n",
        "\n",
        "\n",
        "  test = pd.read_csv(\"./Dannish/offenseval2020-dannish/oe20da_data/offenseval-da-test-v1.tsv\", sep='\\t')\n",
        "  test['hate'] = test['subtask_a'].map(lambda x: 1 if x=='OFF' else 0)\n",
        "  test['input'] = test['tweet']\n",
        "  test = test.dropna().reset_index()\n",
        "  test = test[['input', 'hate']]\n",
        "  X_train, y_train, X_test, y_test =  train['input'].tolist(),  train['hate'].tolist(),test['input'].tolist(),  test['hate'].tolist()\n",
        "  return X_train, y_train, X_test, y_test\n",
        "\n",
        "\n",
        "def LoadOffenseEval2020_Turkish():\n",
        "  train = pd.read_csv(\"./Turkish/offenseval2020-turkish/offenseval-tr-training-v1/offenseval-tr-training-v1.tsv\", sep='\\t')\n",
        "  train['hate'] = train['subtask_a'].map(lambda x: 1 if x=='OFF' else 0)\n",
        "  train['input'] = train['tweet']\n",
        "  train = train.dropna().reset_index()\n",
        "  train = train[['input', 'hate']]\n",
        "\n",
        "  test = pd.read_csv(\"./Turkish/offenseval2020-turkish/offenseval-tr-testset-v1/offenseval-tr-testset-v1.tsv\", sep='\\t')\n",
        "  labels = pd.read_csv(\"./Turkish/offenseval2020-turkish/offenseval-tr-testset-v1/offenseval-tr-labela-v1.tsv\", sep=',')\n",
        "\n",
        "  labels = pd.concat([labels, pd.DataFrame([labels.columns], columns = labels.columns) ])\n",
        "  labels =labels.reset_index()[labels.columns]\n",
        "  labels.columns = ['id', 'hate']\n",
        "  labels.index = labels['id'].astype(int).tolist()\n",
        "  labels =labels.sort_index()\n",
        "\n",
        "  test.index = test['id'].astype(int).tolist()\n",
        "  test = test.sort_index()\n",
        "  test['hate'] = labels['hate']\n",
        "  test['hate']=pd.concat([test,labels], keys=['id'])[\"hate\"]['id']\n",
        "  test['hate'] = test['hate'].map(lambda x: 1 if x =='OFF' else 0)\n",
        "\n",
        "  test.columns = ['id', 'input', 'hate']\n",
        "  X_train, y_train, X_test, y_test =  train['input'].tolist(),  train['hate'].tolist(),test['input'].tolist(),  test['hate'].tolist()\n",
        "  return X_train, y_train, X_test, y_test\n",
        "\n",
        "def LoadOffComBR_Portugese():\n",
        "  data = np.array(arff.load(open('./Portugese/OffComBR/OffComBR3.arff.txt', 'r'))['data'])\n",
        "  df =pd.DataFrame(data)\n",
        "  df.columns =['hate', 'input']\n",
        "  df['hate'] = df['hate'].map(lambda x : 1 if x=='yes' else 0)\n",
        "  X_train, y_train, X_test, y_test = split(df)\n",
        "  return X_train, y_train, X_test, y_test\n",
        "\n",
        "\n",
        "def LoadIWG_German():\n",
        "  df = pd.read_csv(\"./German/IWG_hatespeech_public//german hatespeech refugees.csv\")\n",
        "  df.columns =['input', 'r1', 'r2', 'r3']\n",
        "  df['r3'] = df['r3'].map(lambda x: 1 if x>3 else 0)\n",
        "  df['r1'] = df['r1'].map(lambda x: 1 if (x=='YES') else 0)\n",
        "  df['r2'] = df['r2'].map(lambda x: 1 if (x=='YES') else 0)\n",
        "  df['hate'] = df.apply(lambda row: 1 if (row.r1+row.r2+row.r3)>=2 else 0, axis=1)\n",
        "  df = df[['hate','input'] ]\n",
        "  X_train, y_train, X_test, y_test = split(df)\n",
        "  return X_train, y_train, X_test, y_test\n",
        "\n",
        "def LoadGermEval2018():\n",
        "  df =pd.read_csv(\"./German/germeval2018/germeval2018.training.txt\", sep='\\t',header=None)\n",
        "  df.columns =['input', 'a', 'b']\n",
        "  df['hate'] = df['a'].map(lambda x: 0 if x=='OTHER' else 1)\n",
        "  df= df[['input', 'hate']]\n",
        "  X_train, y_train, X_test, y_test = split(df)\n",
        "  return X_train, y_train, X_test, y_test\n",
        "\n",
        "def load_FR_MLMA():\n",
        "  df =pd.read_csv(\"./French/MLMA_hate_speech/hate_speech_mlma/fr_dataset.csv\", sep=',')\n",
        "  df.columns =['id','input', 'a', 'b', 'c', 'd', 'e']\n",
        "  df['hate'] = df['a'].map(lambda x: 0 if x=='normal' else 1)\n",
        "  df = df.dropna()\n",
        "  df = df.sample(frac=1).reset_index(drop=True)\n",
        "  df= df[['input', 'hate']]\n",
        "  X_train, y_train, X_test, y_test = split(df)\n",
        "  return X_train, y_train, X_test, y_test\n",
        "\n",
        "def load_IT_IHSC():\n",
        "  df =pd.read_csv(\"./Italian/IHSC/data.csv\", sep=',')\n",
        "  df.columns =['id','input', 'a']\n",
        "  df['hate'] = pd.to_numeric(df[\"a\"])\n",
        "  df = df.dropna()\n",
        "  df = df.sample(frac=1).reset_index(drop=True)\n",
        "  df= df[['input', 'hate']]\n",
        "  X_train, y_train, X_test, y_test = split(df)\n",
        "  return X_train, y_train, X_test, y_test\n",
        "\n",
        "def load_ES_Pereira():\n",
        "  df =pd.read_csv(\"./Spanish/Pereira et al/labeled_corpus_6K.txt\", sep=';\\|\\|;', header=None)\n",
        "  df.columns =['id','input', 'a']\n",
        "  df['hate'] = pd.to_numeric(df[\"a\"])\n",
        "  df = df.dropna()\n",
        "  df = df.sample(frac=1).reset_index(drop=True)\n",
        "  df= df[['input', 'hate']]\n",
        "  X_train, y_train, X_test, y_test = split(df)\n",
        "  return X_train, y_train, X_test, y_test\n",
        "\n",
        "def load_ES_violentometro():\n",
        "  df =pd.read_csv(\"./Spanish/violentometro-online/data/clean_comentarios_facebook.csv\", sep=',')\n",
        "  df.columns =['input', 'a']\n",
        "  df['hate'] = pd.to_numeric(df[\"a\"])\n",
        "  df = df.dropna()\n",
        "  df = df.sample(frac=1).reset_index(drop=True)\n",
        "  df= df[['input', 'hate']]\n",
        "  X_train, y_train, X_test, y_test = split(df)\n",
        "  return X_train, y_train, X_test, y_test\n",
        "\n",
        "def load_distilaltion_it():\n",
        "  df =pd.read_csv(\"./Distillation/IMSypp_IT.csv\", sep=',')\n",
        "  df.columns =['input', 'a']\n",
        "  df['hate'] = pd.to_numeric(df[\"a\"])\n",
        "  df = df.dropna()\n",
        "  df= df[['input', 'hate']]\n",
        "  X_train, y_train, X_test, y_test = split(df)\n",
        "  return X_train, y_train, X_test, y_test\n",
        "\n",
        "def load_distilaltion_fr():\n",
        "  df =pd.read_csv(\"./Distillation/IMSypp_FR.csv\", sep=',')\n",
        "  df.columns =['input', 'a']\n",
        "  df['hate'] = pd.to_numeric(df[\"a\"])\n",
        "  df = df.dropna()\n",
        "  df= df[['input', 'hate']]\n",
        "  X_train, y_train, X_test, y_test = split(df)\n",
        "  return X_train, y_train, X_test, y_test"
      ]
    },
    {
      "cell_type": "markdown",
      "source": [
        "Loading all the datasets."
      ],
      "metadata": {
        "id": "NQZuRVwASqp5"
      }
    },
    {
      "cell_type": "code",
      "execution_count": null,
      "metadata": {
        "colab": {
          "base_uri": "https://localhost:8080/"
        },
        "id": "5tgqXVLmtPaS",
        "outputId": "e3efe3d6-4f23-45c1-c36d-c49399ea75e4"
      },
      "outputs": [
        {
          "output_type": "stream",
          "name": "stderr",
          "text": [
            "/usr/local/lib/python3.7/dist-packages/ipykernel_launcher.py:158: ParserWarning: Falling back to the 'python' engine because the 'c' engine does not support regex separators (separators > 1 char and different from '\\s+' are interpreted as regex); you can avoid this warning by specifying engine='python'.\n"
          ]
        }
      ],
      "source": [
        "datasets ={\n",
        "  'Arabic': {\n",
        "    'antisocial-arabic': LoadAntiSocialArabic(),\n",
        "    'offenseval2020-arabic': LoadOffenseEval2020_Arabic()\n",
        "  },\n",
        " 'Dannish': {\n",
        "    'offenseval2020-dannish': LoadOffenseEval2020_Dannish()\n",
        "  },\n",
        " 'German': {\n",
        "     'IWG_hatespeech_public': LoadIWG_German(),\n",
        "     'germeval2018': LoadGermEval2018()\n",
        "  },\n",
        " 'Portugese': {\n",
        "     'OffComBR': LoadOffComBR_Portugese()\n",
        "  },\n",
        " 'Turkish': {\n",
        "     'offenseval2020-turkish': LoadOffenseEval2020_Turkish()\n",
        "  },\n",
        "  'French': {\n",
        "      'mlma_hate_speech': load_FR_MLMA()\n",
        "  },\n",
        "  'Italian': {\n",
        "      'ihsc': load_IT_IHSC()\n",
        "  },\n",
        "  'Spanish': {\n",
        "      'pereira': load_ES_Pereira(),\n",
        "      'violentometro': load_ES_violentometro()\n",
        "  }\n",
        "}"
      ]
    },
    {
      "cell_type": "markdown",
      "source": [
        "Defines a function to freeze a selected number of layers for the model."
      ],
      "metadata": {
        "id": "HggFfrrESyxR"
      }
    },
    {
      "cell_type": "code",
      "execution_count": null,
      "metadata": {
        "id": "ZbzpA-pPiY8U"
      },
      "outputs": [],
      "source": [
        "def freeze(model, n_layers):\n",
        "  for param in model.embeddings.parameters():\n",
        "    param.requires_grad = False\n",
        "  for i, layer in enumerate(model.encoder.layer):\n",
        "      if i < n_layers:\n",
        "        print(\"Freezing layer\", i)\n",
        "        for param in layer.parameters():\n",
        "          param.requires_grad = False\n",
        "      else:\n",
        "        param.requires_grad = True\n",
        "  return model"
      ]
    },
    {
      "cell_type": "markdown",
      "source": [
        "## Solution 1"
      ],
      "metadata": {
        "id": "wexH4y6wUhMt"
      }
    },
    {
      "cell_type": "markdown",
      "source": [
        "This solution proposes to use a multilingual neural network-based model that is trained to generate multilingual representations. Here we have created two models based on mBERT and XML-RoBERTa to evaluate this approach."
      ],
      "metadata": {
        "id": "_KqQSPLPUpfI"
      }
    },
    {
      "cell_type": "markdown",
      "source": [
        "### Model 1 - mBERT\n"
      ],
      "metadata": {
        "id": "nJ-zyRnRUj8n"
      }
    },
    {
      "cell_type": "markdown",
      "source": [
        "Defines the class for the ProfanityDetector model based on mBERT"
      ],
      "metadata": {
        "id": "_gVZLtvXS441"
      }
    },
    {
      "cell_type": "code",
      "execution_count": null,
      "metadata": {
        "id": "yZ3rLFXX5f6J"
      },
      "outputs": [],
      "source": [
        "class ProfanityDetector_mBERT(torch.nn.Module):\n",
        "  def __init__(self, bert):\n",
        "    super(ProfanityDetector_mBERT, self).__init__()\n",
        "\n",
        "    # Pretrained bert model\n",
        "    self.bert =  bert; \n",
        "\n",
        "    self.drop = nn.Dropout(p=0.1)\n",
        "    \n",
        "    # One layer that accepts the CLS vector and outputs 2 values => hate or no hate\n",
        "    self.linear1 = torch.nn.Linear(768, 2)  \n",
        " \n",
        "    # To compute whether it is hateful or not\n",
        "    self.CrossEntropyLoss = nn.CrossEntropyLoss() \n",
        "\n",
        "    self.Softmax = torch.nn.Softmax() \n",
        "\n",
        "  def embed(self, input_ids, attention_masks):\n",
        "    \"\"\"\n",
        "    Inputs:\n",
        "      - input_ids: array of tensors, where every row corresponds to the token ids of a certain textual data\n",
        "      - attention_masks: array of tensors, where every row corresponds to an attention mask (which tokens should be attended to, and which should not)\n",
        "    (These inputs are the outputs of the BERT tokenizer)\n",
        "\n",
        "    Output: \n",
        "      - the embeddings of the data inputted by getting the cls token\n",
        "    \"\"\"\n",
        "    self.bert.eval() \n",
        "    output = self.bert(input_ids=input_ids, attention_mask=attention_masks)\n",
        "    token_embeddings = output[0]\n",
        "    cls_rep = token_embeddings[:, 0, :]\n",
        "    return output[1] \n",
        "\n",
        "  \n",
        "  def forward(self, input_ids, attention_masks):\n",
        "\n",
        "    \"\"\"\n",
        "    Inputs: \n",
        "      - input_ids, attention_masks : list of input_ids and attention_masks for a set of sentences\n",
        "    Output:\n",
        "      - compute the profanity hate/no hate\n",
        "    \"\"\"\n",
        "    encoded= self.embed(input_ids, attention_masks)\n",
        "\n",
        "    linear1 = self.drop(self.linear1(encoded))\n",
        "\n",
        "\n",
        "    return (linear1)\n",
        "\n",
        "def tokenize_encode_tensors(sentences, max_seq_len):\n",
        " tokens = tokenizer.batch_encode_plus(\n",
        "        sentences,\n",
        "        max_length = max_seq_len, #\n",
        "        pad_to_max_length=True,\n",
        "        truncation=True,\n",
        "        return_token_type_ids=False\n",
        "    )\n",
        " seq =  torch.tensor(tokens['input_ids'])\n",
        " mask = torch.tensor(tokens['attention_mask'])\n",
        "\n",
        " return seq, mask\n"
      ]
    },
    {
      "cell_type": "markdown",
      "source": [
        "Defines a function to plot the results obtained."
      ],
      "metadata": {
        "id": "mX3i4fBeTAbY"
      }
    },
    {
      "cell_type": "code",
      "source": [
        "def plotResults(res, language, dataset):\n",
        "  \"\"\"\n",
        "  res: dictionary of the results (accuracy, P, R, F-score ) on each dataset\n",
        "  language and dataset are used for the caption\n",
        "  \"\"\"\n",
        "  fig, ax = plt.subplots(1, 2, figsize=(20,5))\n",
        "\n",
        "  langs = list(res.keys())\n",
        "  acc = [res[key]['accuracy'] for key in res.keys()]\n",
        "  f_score = [res[key]['f_score'] for key in res.keys()]\n",
        "  f_score = [f if str(f)!='nan' else 0 for f in f_score]\n",
        "  y_pos = range(len(langs))\n",
        "  ax[0].bar(y_pos, acc)\n",
        "  # Rotation of the bars names\n",
        "  ax[0].set_xticks(y_pos)\n",
        "  ax[0].set_xticklabels(langs, minor=False, rotation=90)\n",
        "  ax[0].set_title(\"Fine tuned on {} - {}\".format(language, dataset))\n",
        "  ax[0].set_ylabel(\"Accuracy\")\n",
        "  ax[1].bar(y_pos, f_score)\n",
        "  # Rotation of the bars names\n",
        "  ax[1].set_xticks(y_pos)\n",
        "  ax[1].set_xticklabels(langs, minor=False, rotation=90)\n",
        "  ax[1].set_title(\"Fine tuned on {} - {}\".format(language, dataset))\n",
        "  ax[1].set_ylabel(\"F-Score\")\n",
        "\n",
        "  plt.show()"
      ],
      "metadata": {
        "id": "e7qnV7lWx1wG"
      },
      "execution_count": null,
      "outputs": []
    },
    {
      "cell_type": "markdown",
      "source": [
        "Defines a function to create the dataloaders for the training and test datasets based on the given batch size and maximum sequence length. Then the mBERT model is loaded. "
      ],
      "metadata": {
        "id": "DuKBKxuWTLKa"
      }
    },
    {
      "cell_type": "code",
      "execution_count": null,
      "metadata": {
        "colab": {
          "base_uri": "https://localhost:8080/"
        },
        "id": "0scT96A1VuCz",
        "outputId": "7e114459-611b-4e7e-e3df-d75dadd4f2de"
      },
      "outputs": [
        {
          "output_type": "stream",
          "name": "stderr",
          "text": [
            "Some weights of the model checkpoint at bert-base-multilingual-uncased were not used when initializing BertModel: ['cls.predictions.decoder.weight', 'cls.predictions.transform.LayerNorm.weight', 'cls.seq_relationship.weight', 'cls.predictions.bias', 'cls.predictions.transform.LayerNorm.bias', 'cls.seq_relationship.bias', 'cls.predictions.transform.dense.bias', 'cls.predictions.transform.dense.weight']\n",
            "- This IS expected if you are initializing BertModel from the checkpoint of a model trained on another task or with another architecture (e.g. initializing a BertForSequenceClassification model from a BertForPreTraining model).\n",
            "- This IS NOT expected if you are initializing BertModel from the checkpoint of a model that you expect to be exactly identical (initializing a BertForSequenceClassification model from a BertForSequenceClassification model).\n"
          ]
        }
      ],
      "source": [
        "#Prepare data\n",
        "def createDataLoader(X_train, y_train,  X_test, y_test, max_seq_len,batch_size):\n",
        "  X_train, y_train = fixImbalance (X_train, y_train)\n",
        "\n",
        "  seq_train, mask_train = tokenize_encode_tensors(X_train, max_seq_len)\n",
        "  out_train = torch.tensor(y_train).long()\n",
        "  # wrap tensors\n",
        "  train_data = TensorDataset(seq_train, mask_train, out_train)\n",
        "  train_sampler = RandomSampler(train_data)\n",
        "  train_dataloader = DataLoader(train_data, sampler=train_sampler, batch_size=batch_size)\n",
        "\n",
        "  seq_test, mask_test = tokenize_encode_tensors(X_test, max_seq_len)\n",
        "  out_test = torch.tensor(y_test).long()\n",
        "  # wrap tensors\n",
        "  test_data = TensorDataset(seq_test, mask_test, out_test)\n",
        "  test_sampler = RandomSampler(test_data)\n",
        "  test_dataloader = DataLoader(test_data, sampler = test_sampler, batch_size=batch_size)\n",
        "\n",
        "  return train_dataloader, test_dataloader\n",
        "\n",
        "max_seq_len = 64\n",
        "batch_size = 32\n",
        "\n",
        "mBert = BertModel.from_pretrained('bert-base-multilingual-uncased')\n",
        "tokenizer = BertTokenizer.from_pretrained('bert-base-multilingual-uncased')\n",
        "\n",
        "\n",
        "with open(\"datasets_mBERT.dt\", 'rb') as f:\n",
        "  #were saved to save time \n",
        "    tensors = pickle.load(f)\n",
        "# tensors ={}\n",
        "# for language in datasets.keys():\n",
        "#   tensors[language] ={}\n",
        "#   for dataset in datasets[language].keys():\n",
        "#     tensors[language][dataset] ={}\n",
        "#     X_train, y_train,  X_test, y_test = datasets[language][dataset]\n",
        "#     train_dataloader, test_dataloader  = createDataLoader(X_train, y_train,  X_test, y_test,max_seq_len, batch_size)\n",
        "#     tensors[language][dataset]['train'] = train_dataloader\n",
        "#     tensors[language][dataset]['test'] = test_dataloader\n",
        "      \n"
      ]
    },
    {
      "cell_type": "markdown",
      "source": [
        "Defines a function to calculate the accuracy of our prediction verses the labels. Also defines the training and validate function. "
      ],
      "metadata": {
        "id": "1QLnGLgPTd4R"
      }
    },
    {
      "cell_type": "code",
      "execution_count": null,
      "metadata": {
        "id": "-5eK8-R4BHsD"
      },
      "outputs": [],
      "source": [
        "def flat_accuracy(preds, labels):\n",
        "    pred_flat = np.argmax(preds, axis=1).flatten()\n",
        "    labels_flat = labels.flatten()\n",
        "    return np.sum(pred_flat == labels_flat) / len(labels_flat)\n",
        "\n",
        "\n",
        "def train_validate( model, dataloader, scheduler, optimizer, train):\n",
        "  if train: \n",
        "    model.train()\n",
        "  else: \n",
        "    model.eval()\n",
        "\n",
        "  total_loss, total_accuracy = 0, 0\n",
        "  # empty list to save model predictions\n",
        "  total_preds=[]\n",
        "  # iterate over batches\n",
        "  i=0  \n",
        "  acc=[]\n",
        "\n",
        "  \n",
        "  target_true =0\n",
        "  predicted_true =0\n",
        "  correct_true =0\n",
        "  for step,batch in enumerate(dataloader):\n",
        "    i+=1\n",
        "    if step%20==0 and step != 0 and train:\n",
        "      print('  Batch {}  of  {}.'.format(step, len(dataloader)))\n",
        "\n",
        "    if step%40==0 and step != 0 and not train:\n",
        "      print('  Batch {}  of  {}.'.format(step, len(dataloader)))\n",
        "\n",
        "    # push the batch to gpu\n",
        "    batch = [r.to(device) for r in batch]\n",
        " \n",
        "    sent_id, mask, label = batch\n",
        "\n",
        "    if train:\n",
        "      # clear previously calculated gradients \n",
        "      model.zero_grad()        \n",
        "\n",
        "    with torch.set_grad_enabled(train): #only enable when training    \n",
        "          pred_score = model(sent_id, mask)\n",
        "    \n",
        "        \n",
        "          loss = model.CrossEntropyLoss(model.Softmax(pred_score), label)\n",
        "          \n",
        "          \n",
        "          if train:\n",
        "\n",
        "\n",
        "            loss.backward() \n",
        "            \n",
        "            torch.nn.utils.clip_grad_norm_(model.parameters(), 1.0)  # clip the the gradients to 1.0. It helps in preventing the exploding gradient problem\n",
        "            optimizer.step()\n",
        "\n",
        "        # Update the learning rate.\n",
        "            scheduler.step()\n",
        "            # scheduler.step()\n",
        "    # push model predictions from GPU to CPU\n",
        "    pred_score=pred_score.detach().cpu().numpy()\n",
        "    \n",
        "    \n",
        "\n",
        "    total_loss = total_loss + loss.item()\n",
        "    acc.append(flat_accuracy(pred_score, label.detach().cpu().numpy()))\n",
        "\n",
        "    predicted_classes = np.argmax(pred_score, axis=1).flatten()\n",
        "    target_classes = label.detach().cpu().numpy().flatten()\n",
        "\n",
        "   \n",
        "\n",
        "    target_true += np.sum(target_classes)\n",
        "    predicted_true += np.sum(predicted_classes)\n",
        "\n",
        "    correct_true += np.sum((predicted_classes == target_classes) & (predicted_classes == 1))\n",
        "\n",
        "    # append the model predictions\n",
        "    total_preds.append(pred_score)\n",
        "\n",
        "  # compute the training loss of the epoch\n",
        "  avg_loss = total_loss / len(dataloader)\n",
        "  acc = np.mean(acc)\n",
        "\n",
        "  \n",
        "  recall = correct_true / target_true\n",
        "  precision = correct_true / predicted_true\n",
        "  f1_score = 2 * precision * recall / (precision + recall)\n",
        "  # Reshape the predictions in form of (number of samples, no. of classes)\n",
        "  total_preds  = np.concatenate(total_preds, axis=0)\n",
        "  return avg_loss,acc, precision, recall, f1_score,  total_preds \n",
        "\n",
        "def train_validate( model, dataloader, scheduler, optimizer, train):\n",
        "  if train: \n",
        "    model.train()\n",
        "  else: \n",
        "    model.eval()\n",
        "\n",
        "  total_loss, total_accuracy = 0, 0\n",
        "  # empty list to save model predictions\n",
        "  total_preds=[]\n",
        "  # iterate over batches\n",
        "  i=0  \n",
        "  acc=[]\n",
        "\n",
        "  \n",
        "  target_true =0\n",
        "  predicted_true =0\n",
        "  correct_true =0\n",
        "  for step,batch in enumerate(dataloader):\n",
        "    i+=1\n",
        "    if step%20==0 and step != 0 and train:\n",
        "      print('  Batch {}  of  {}.'.format(step, len(dataloader)))\n",
        "\n",
        "    if step%40==0 and step != 0 and not train:\n",
        "      print('  Batch {}  of  {}.'.format(step, len(dataloader)))\n",
        "\n",
        "    # push the batch to gpu\n",
        "    batch = [r.to(device) for r in batch]\n",
        " \n",
        "    sent_id, mask, label = batch\n",
        "\n",
        "    if train:\n",
        "      # clear previously calculated gradients \n",
        "      model.zero_grad()        \n",
        "      optimizer.zero_grad()\n",
        "    with torch.set_grad_enabled(train): #only enable when training    \n",
        "          pred_score = model(sent_id, mask)\n",
        "          loss = model.CrossEntropyLoss(model.Softmax(pred_score), label)\n",
        "          \n",
        "          \n",
        "          if train:\n",
        "            loss.backward()             \n",
        "            torch.nn.utils.clip_grad_norm_(model.parameters(), 1.0)  # clip the the gradients to 1.0. It helps in preventing the exploding gradient problem\n",
        "            optimizer.step()\n",
        "\n",
        "            # Update the learning rate.\n",
        "            scheduler.step()\n",
        "\n",
        "    # push model predictions from GPU to CPU\n",
        "    pred_score=pred_score.detach().cpu().numpy()\n",
        "    \n",
        "    total_loss = total_loss + loss.item()\n",
        "    acc.append(flat_accuracy(pred_score, label.detach().cpu().numpy()))\n",
        "\n",
        "    predicted_classes = np.argmax(pred_score, axis=1).flatten()\n",
        "    target_classes = label.detach().cpu().numpy().flatten()\n",
        "\n",
        "    target_true += np.sum(target_classes)\n",
        "    predicted_true += np.sum(predicted_classes)\n",
        "    correct_true += np.sum((predicted_classes == target_classes) & (predicted_classes == 1))\n",
        "\n",
        "    total_preds.append(pred_score)\n",
        "\n",
        "  # compute the training loss of the epoch\n",
        "  avg_loss = total_loss / len(dataloader)\n",
        "  acc = np.mean(acc)\n",
        "\n",
        "  \n",
        "  recall = correct_true / target_true\n",
        "  precision = correct_true / predicted_true\n",
        "  f1_score = 2 * precision * recall / (precision + recall)\n",
        "  total_preds  = np.concatenate(total_preds, axis=0)\n",
        "  return avg_loss,acc, precision, recall, f1_score,  total_preds \n"
      ]
    },
    {
      "cell_type": "markdown",
      "source": [
        "Defines a function for training mBERT. We have decided not to freeze any layers."
      ],
      "metadata": {
        "id": "QmnZgmq2T9xa"
      }
    },
    {
      "cell_type": "code",
      "execution_count": null,
      "metadata": {
        "id": "dIgT0Xqe5bZt"
      },
      "outputs": [],
      "source": [
        "def trainMBert( dataloader,dataset, epochs, validation_split, model=None):\n",
        "\n",
        "  dataset_size = len(dataloader)\n",
        "  indices = list(range(dataset_size))\n",
        "  split = int(np.floor(validation_split * dataset_size))\n",
        "  \n",
        "  if model is None: \n",
        "\n",
        "    mBert = BertModel.from_pretrained('bert-base-multilingual-uncased')\n",
        "    tokenizer = BertTokenizer.from_pretrained('bert-base-multilingual-uncased')\n",
        "    mBert = freeze(mBert, 0)\n",
        "    model =ProfanityDetector_mBERT(mBert) \n",
        "    model = model.to(device)\n",
        "  \n",
        "  optimizer = AdamW(model.parameters(),\n",
        "                    lr = 2e-5, # args.learning_rate - default is 5e-5, our notebook had 2e-5\n",
        "                    eps = 1e-8 # args.adam_epsilon  - default is 1e-8.\n",
        "                  )\n",
        "\n",
        "  # Total number of training steps is number of batches * number of epochs.\n",
        "  total_steps = (dataset_size-split) * epochs\n",
        "\n",
        "  # Create the learning rate scheduler.\n",
        "  scheduler = get_linear_schedule_with_warmup(optimizer, \n",
        "                                              num_warmup_steps = 0, # Default value in run_glue.py\n",
        "                                              num_training_steps = total_steps)\n",
        "\n",
        "  train_losses=[]\n",
        "  f_score_best=0\n",
        "  for epoch in range(epochs):\n",
        "      print('\\n Epoch {:} / {:}'.format(epoch + 1, epochs))\n",
        "      \n",
        "\n",
        "      try:       model.load_state_dict(torch.load('./models/{}.pt'.format(dataset))) # we can restart from best model\n",
        "      except: 1\n",
        "      train_set, val_set = torch.utils.data.random_split(dataloader.dataset, lengths=[int(len(dataloader.dataset)*validation_split), len(dataloader.dataset) - int(len(dataloader.dataset)*validation_split)])\n",
        "\n",
        "      train_sampler = RandomSampler(train_set)\n",
        "      valid_sampler = RandomSampler(val_set)\n",
        "\n",
        "      train_dataloader = torch.utils.data.DataLoader(train_set , sampler=train_sampler, batch_size=batch_size)\n",
        "      validation_loader = torch.utils.data.DataLoader(val_set , sampler=valid_sampler, batch_size=batch_size)\n",
        "\n",
        "      #train model\n",
        "      train_loss,  train_acc , precision, recall, f_score,  _= train_validate( model, train_dataloader, scheduler, optimizer, train=True)\n",
        "      train_loss,  train_acc , precision, recall, f_score,  _= train_validate( model, validation_loader, scheduler, optimizer, train=False)\n",
        "      \n",
        "      if f_score_best< f_score:\n",
        "          torch.save(model.state_dict(), './models/{}.pt'.format(dataset))\n",
        "          print(\"updating\")\n",
        "          if  str(f_score)!='nan':\n",
        "            f_score_best= f_score\n",
        "\n",
        "      print(f'\\nTraining Loss: {train_loss:.3f} Training Accuracy {train_acc:.3f}')\n",
        "      print(f'\\nPrecision: {precision:.3f} Recall {recall:.3f} F-Score {f_score:.3f}')\n",
        "      # append training and validation loss\n",
        "      train_losses.append(train_loss)\n",
        "\n",
        "  # torch.save(model.state_dict(), './models/{}.pt'.format(dataset))\n",
        "\n",
        "  return model, optimizer, scheduler"
      ]
    },
    {
      "cell_type": "markdown",
      "source": [
        "Experiment 1 - Fine tune on one training dataset at a time and test on all testing sets"
      ],
      "metadata": {
        "id": "Kt_qs98zgvCK"
      }
    },
    {
      "cell_type": "code",
      "execution_count": null,
      "metadata": {
        "colab": {
          "base_uri": "https://localhost:8080/",
          "height": 1000
        },
        "id": "XnQrWN12PLG-",
        "outputId": "3acb8d27-df0d-4f53-cf8b-79ca7982dfff"
      },
      "outputs": [
        {
          "output_type": "display_data",
          "data": {
            "image/png": "[encoded data removed]",
            "text/plain": [
              "<Figure size 1440x360 with 2 Axes>"
            ]
          },
          "metadata": {
            "needs_background": "light"
          }
        },
        {
          "output_type": "display_data",
          "data": {
            "image/png": "[encoded data removed]",
            "text/plain": [
              "<Figure size 1440x360 with 2 Axes>"
            ]
          },
          "metadata": {
            "needs_background": "light"
          }
        },
        {
          "output_type": "display_data",
          "data": {
            "image/png": "[encoded data removed]",
            "text/plain": [
              "<Figure size 1440x360 with 2 Axes>"
            ]
          },
          "metadata": {
            "needs_background": "light"
          }
        },
        {
          "output_type": "display_data",
          "data": {
            "image/png": "[encoded data removed]",
            "text/plain": [
              "<Figure size 1440x360 with 2 Axes>"
            ]
          },
          "metadata": {
            "needs_background": "light"
          }
        },
        {
          "output_type": "display_data",
          "data": {
            "image/png": "[encoded data removed]",
            "text/plain": [
              "<Figure size 1440x360 with 2 Axes>"
            ]
          },
          "metadata": {
            "needs_background": "light"
          }
        },
        {
          "output_type": "display_data",
          "data": {
            "image/png": "[encoded data removed]",
            "text/plain": [
              "<Figure size 1440x360 with 2 Axes>"
            ]
          },
          "metadata": {
            "needs_background": "light"
          }
        },
        {
          "output_type": "display_data",
          "data": {
            "image/png": "[encoded data removed]",
            "text/plain": [
              "<Figure size 1440x360 with 2 Axes>"
            ]
          },
          "metadata": {
            "needs_background": "light"
          }
        },
        {
          "output_type": "display_data",
          "data": {
            "image/png": "[encoded data removed]",
            "text/plain": [
              "<Figure size 1440x360 with 2 Axes>"
            ]
          },
          "metadata": {
            "needs_background": "light"
          }
        },
        {
          "output_type": "display_data",
          "data": {
            "image/png": "[encoded data removed]",
            "text/plain": [
              "<Figure size 1440x360 with 2 Axes>"
            ]
          },
          "metadata": {
            "needs_background": "light"
          }
        },
        {
          "output_type": "display_data",
          "data": {
            "image/png": "[encoded data removed]",
            "text/plain": [
              "<Figure size 1440x360 with 2 Axes>"
            ]
          },
          "metadata": {
            "needs_background": "light"
          }
        },
        {
          "output_type": "display_data",
          "data": {
            "image/png": "[encoded data removed]",
            "text/plain": [
              "<Figure size 1440x360 with 2 Axes>"
            ]
          },
          "metadata": {
            "needs_background": "light"
          }
        }
      ],
      "source": [
        "# #train on one dataset, test on all \n",
        "# result={}\n",
        "# for language in tensors.keys():\n",
        "#   result[language]={}\n",
        "#   for dataset in tensors[language].keys():\n",
        "#       print(\"Training \", dataset)\n",
        "\n",
        "#       result[language][dataset] ={}\n",
        "#       model, optimizer, scheduler = trainMBert(tensors[language][dataset]['train'], dataset , epochs=10, validation_split=0.7)\n",
        "\n",
        "#       for language2 in tensors.keys():\n",
        "#         for dataset2 in tensors[language2].keys():\n",
        "#           test_dataloader = tensors[language2][dataset2]['test']\n",
        "#           train_loss,  train_acc , precision, recall, f_score,  _= train_validate( model, test_dataloader, scheduler, optimizer, train=False)\n",
        "#           result[language][dataset][dataset2]= {'accuracy':train_acc, 'precision':precision, 'recall': recall, 'f_score': f_score}\n",
        "#           print(language2, dataset2, train_acc , precision, recall, f_score)\n",
        "      \n",
        "\n",
        "with open(\"results.t\", 'rb') as f:\n",
        "  result = pickle.load(f)\n",
        "\n",
        "for language in result.keys():\n",
        "  for dataset in result[language].keys():\n",
        "    res = result[language][dataset]\n",
        "    plotResults(res, language, dataset)"
      ]
    },
    {
      "cell_type": "markdown",
      "source": [
        "Experiment 2 - Fine tuning on all training sets and testing on all testing sets"
      ],
      "metadata": {
        "id": "iOTrhxEZg3DE"
      }
    },
    {
      "cell_type": "code",
      "source": [
        "#train on one dataset, test on all \n",
        "AllTraining=None\n",
        "for language in tensors.keys():\n",
        "    for dataset in tensors[language].keys():\n",
        "      if AllTraining is None:\n",
        "          AllTraining = tensors[language][dataset]['train'].dataset\n",
        "      else:\n",
        "          AllTraining = ConcatDataset([AllTraining,  tensors[language][dataset]['train'].dataset])\n",
        "\n",
        "train_sampler = RandomSampler(AllTraining)\n",
        "train_dataloader = torch.utils.data.DataLoader(AllTraining , sampler=train_sampler, batch_size=batch_size)\n",
        "\n",
        "model, optimizer, scheduler = trainMBert(train_dataloader, 'AllDatasets' , epochs=10, validation_split=0.7)"
      ],
      "metadata": {
        "id": "Cd2iUcVIgrHe"
      },
      "execution_count": null,
      "outputs": []
    },
    {
      "cell_type": "code",
      "source": [
        "Final ={}\n",
        "for language2 in tensors.keys():\n",
        "    for dataset2 in tensors[language2].keys():\n",
        "          test_dataloader = tensors[language2][dataset2]['test']\n",
        "          train_loss,  train_acc , precision, recall, f_score,  _= train_validate( model, test_dataloader, scheduler, optimizer, train=False)\n",
        "          Final[dataset2]= {'accuracy':train_acc, 'precision':precision, 'recall': recall, 'f_score': f_score}\n",
        "          print(language2, dataset2, train_acc , precision, recall, f_score)\n",
        "language =\"All\"\n",
        "dataset =\"All\"\n",
        "plotResults(Final, language, dataset)   "
      ],
      "metadata": {
        "colab": {
          "base_uri": "https://localhost:8080/",
          "height": 446
        },
        "id": "Ro95RIQYYx3g",
        "outputId": "4c4264c9-8e95-4721-fafc-cef1150a147c"
      },
      "execution_count": null,
      "outputs": [
        {
          "output_type": "display_data",
          "data": {
            "image/png": "[encoded data removed]",
            "text/plain": [
              "<Figure size 1440x360 with 2 Axes>"
            ]
          },
          "metadata": {
            "needs_background": "light"
          }
        }
      ]
    },
    {
      "cell_type": "markdown",
      "source": [
        "### Model 2 - XLM-RoBERTa"
      ],
      "metadata": {
        "id": "oC0MGIFcxWJF"
      }
    },
    {
      "cell_type": "code",
      "source": [
        "model = XLMRobertaForSequenceClassification.from_pretrained(\n",
        "    'xlm-roberta-base', \n",
        "    num_labels = 2, # The number of output labels. 2 for binary classification.\n",
        ")\n",
        "\n",
        "# Send the model to the device.\n",
        "model= model.to(device)"
      ],
      "metadata": {
        "colab": {
          "base_uri": "https://localhost:8080/",
          "height": 188,
          "referenced_widgets": [
            "80de373ed887457db0158e916aa365dd",
            "5d8c420036d54f26b9c2e2c78d41dae7",
            "cba9f44e84ee4406ae971921cd6b461a",
            "39d086d216b14cb89b287128091fabd7",
            "63556584e5a74a2b93d007469c369bf5",
            "33c57f1715b74750b5403f4fe2a8e6bc",
            "6bea1280be6442a5857d37ff5c82e9b9",
            "14eaffe70dfc417e8995670ae50b39b4",
            "0cdea9da6a834cdeb29756adb47b368c",
            "bf09e6b5bd6e4529aa8ce0df9b89b26e",
            "b5c04fa749ad44b0b4455c9aad3b24ca",
            "1f5f42e9946b431d897a504b49ce92ae",
            "5f5e3617a64e41c9a479fd7e1581857a",
            "558bff68cb00475286c034204fd21bb0",
            "f4ebe711d6804388abe434a727200099",
            "d6341d86b51e4212b77d5c055ccdd52e",
            "0a04eef80e534fec9ce3b1c26e6593cf",
            "3ef242e7feab4c7a8c165e1c527d8711",
            "0ef0ae814d314efc9fc988e9b9da02fc",
            "939cf972d216469496461c86644c524d",
            "93e79424ca33477dab76ad0d19baf3c2",
            "925d28c5d121486e97c61e3bfb55783d"
          ]
        },
        "id": "ZoPwp8qAGcPu",
        "outputId": "d4d0fa32-de50-4b12-8a91-7660b61f1953"
      },
      "execution_count": null,
      "outputs": [
        {
          "output_type": "display_data",
          "data": {
            "application/vnd.jupyter.widget-view+json": {
              "model_id": "80de373ed887457db0158e916aa365dd",
              "version_minor": 0,
              "version_major": 2
            },
            "text/plain": [
              "Downloading:   0%|          | 0.00/512 [00:00<?, ?B/s]"
            ]
          },
          "metadata": {}
        },
        {
          "output_type": "display_data",
          "data": {
            "application/vnd.jupyter.widget-view+json": {
              "model_id": "1f5f42e9946b431d897a504b49ce92ae",
              "version_minor": 0,
              "version_major": 2
            },
            "text/plain": [
              "Downloading:   0%|          | 0.00/1.04G [00:00<?, ?B/s]"
            ]
          },
          "metadata": {}
        },
        {
          "output_type": "stream",
          "name": "stderr",
          "text": [
            "Some weights of the model checkpoint at xlm-roberta-base were not used when initializing XLMRobertaForSequenceClassification: ['lm_head.layer_norm.weight', 'lm_head.layer_norm.bias', 'roberta.pooler.dense.weight', 'lm_head.decoder.weight', 'lm_head.bias', 'lm_head.dense.bias', 'roberta.pooler.dense.bias', 'lm_head.dense.weight']\n",
            "- This IS expected if you are initializing XLMRobertaForSequenceClassification from the checkpoint of a model trained on another task or with another architecture (e.g. initializing a BertForSequenceClassification model from a BertForPreTraining model).\n",
            "- This IS NOT expected if you are initializing XLMRobertaForSequenceClassification from the checkpoint of a model that you expect to be exactly identical (initializing a BertForSequenceClassification model from a BertForSequenceClassification model).\n",
            "Some weights of XLMRobertaForSequenceClassification were not initialized from the model checkpoint at xlm-roberta-base and are newly initialized: ['classifier.dense.weight', 'classifier.out_proj.bias', 'classifier.out_proj.weight', 'classifier.dense.bias']\n",
            "You should probably TRAIN this model on a down-stream task to be able to use it for predictions and inference.\n"
          ]
        }
      ]
    },
    {
      "cell_type": "code",
      "source": [
        "# tokenizer = AutoTokenizer.from_pretrained('xlm-roberta-base') \n",
        "# max_seq_len = 64\n",
        "# batch_size = 32\n",
        "# tensors_roberta ={}\n",
        "# for language in datasets.keys():\n",
        "#   tensors_roberta[language] ={}\n",
        "#   for dataset in datasets[language].keys():\n",
        "#     tensors_roberta[language][dataset] ={}\n",
        "#     X_train, y_train,  X_test, y_test = datasets[language][dataset]\n",
        "#     train_dataloader, test_dataloader  = createDataLoader(X_train, y_train,  X_test, y_test,max_seq_len, batch_size)\n",
        "#     tensors_roberta[language][dataset]['train'] = train_dataloader\n",
        "#     tensors_roberta[language][dataset]['test'] = test_dataloader\n",
        "\n",
        "# with open(\"datasets_roberta.dt\", 'wb') as f:\n",
        "#   pickle.dump(tensors_roberta, f, 4) \n",
        "\n",
        "with open(\"datasets_roberta.dt\", 'rb') as f:\n",
        "  tensors_roberta = pickle.load(f) \n",
        "\n",
        "from torch.utils.data import ConcatDataset\n",
        "#train on one dataset, test on all \n",
        "AllTraining=None\n",
        "for language in tensors_roberta.keys():\n",
        "    for dataset in tensors_roberta[language].keys():\n",
        "      if AllTraining is None:\n",
        "          AllTraining = tensors_roberta[language][dataset]['train'].dataset\n",
        "      else:\n",
        "          AllTraining = ConcatDataset([AllTraining,  tensors_roberta[language][dataset]['train'].dataset])\n",
        "\n",
        "train_sampler_roberta = RandomSampler(AllTraining)\n",
        "train_dataloader_roberta = torch.utils.data.DataLoader(AllTraining , sampler=train_sampler_roberta, batch_size=batch_size)\n"
      ],
      "metadata": {
        "id": "CaQ8zZ9kMkbM"
      },
      "execution_count": null,
      "outputs": []
    },
    {
      "cell_type": "code",
      "source": [
        "def train_validate_roberta( model, dataloader, scheduler, optimizer, train):\n",
        "  if train: \n",
        "    model.train()\n",
        "  else: \n",
        "    model.eval()\n",
        "\n",
        "  total_loss, total_accuracy = 0, 0\n",
        "  # empty list to save model predictions\n",
        "  total_preds=[]\n",
        "  # iterate over batches\n",
        "  i=0  \n",
        "  acc=[]\n",
        "\n",
        "  \n",
        "  target_true =0\n",
        "  predicted_true =0\n",
        "  correct_true =0\n",
        "  for step,batch in enumerate(dataloader):\n",
        "    i+=1\n",
        "    if step%20==0 and step != 0 and train:\n",
        "      print('  Batch {}  of  {}.'.format(step, len(dataloader)))\n",
        "\n",
        "    if step%40==0 and step != 0 and not train:\n",
        "      print('  Batch {}  of  {}.'.format(step, len(dataloader)))\n",
        "\n",
        "    # push the batch to gpu\n",
        "    batch = [r.to(device) for r in batch]\n",
        " \n",
        "    sent_id, mask, label = batch\n",
        "\n",
        "    if train:\n",
        "      # clear previously calculated gradients \n",
        "      model.zero_grad()        \n",
        "\n",
        "    with torch.set_grad_enabled(train): #only enable when training    \n",
        "            \n",
        "          outputs = model(sent_id, \n",
        "                    attention_mask=mask,\n",
        "                    labels=label)\n",
        "        \n",
        "          loss = outputs[0]\n",
        "                \n",
        "          if train:\n",
        "            loss.backward() \n",
        "            \n",
        "            torch.nn.utils.clip_grad_norm_(model.parameters(), 1.0)  # clip the the gradients to 1.0. It helps in preventing the exploding gradient problem\n",
        "            optimizer.step()\n",
        "\n",
        "           # Update the learning rate.\n",
        "            scheduler.step()\n",
        "\n",
        "    pred_score=outputs[1].detach().cpu().numpy()\n",
        "\n",
        "    total_loss = total_loss + loss.item()\n",
        "    acc.append(flat_accuracy(pred_score, label.detach().cpu().numpy()))\n",
        "\n",
        "    predicted_classes = np.argmax(pred_score, axis=1).flatten()\n",
        "    target_classes = label.detach().cpu().numpy().flatten()\n",
        "\n",
        "    target_true += np.sum(target_classes)\n",
        "    predicted_true += np.sum(predicted_classes)\n",
        "    correct_true += np.sum((predicted_classes == target_classes) & (predicted_classes == 1))\n",
        "\n",
        "    total_preds.append(pred_score)\n",
        "\n",
        "  # compute the training loss of the epoch\n",
        "  avg_loss = total_loss / len(dataloader)\n",
        "  acc = np.mean(acc)\n",
        "  \n",
        "  recall = correct_true / target_true\n",
        "  precision = correct_true / predicted_true\n",
        "  f1_score = 2 * precision * recall / (precision + recall)\n",
        "  # Reshape the predictions in form of (number of samples, no. of classes)\n",
        "  total_preds  = np.concatenate(total_preds, axis=0)\n",
        "  return avg_loss,acc, precision, recall, f1_score,  total_preds "
      ],
      "metadata": {
        "id": "ocsulgWaG3c8"
      },
      "execution_count": null,
      "outputs": []
    },
    {
      "cell_type": "markdown",
      "source": [
        "Experiment 2"
      ],
      "metadata": {
        "id": "P5fTGVsXhccC"
      }
    },
    {
      "cell_type": "code",
      "source": [
        "epochs=10\n",
        "dataloader = train_dataloader_roberta\n",
        "dataset_size = len(dataloader)\n",
        "indices = list(range(dataset_size))\n",
        "validation_split=0.7\n",
        "split = int(np.floor(validation_split * dataset_size))\n",
        "\n",
        "optimizer = AdamW(model.parameters(),\n",
        "                    lr = 2e-5, # args.learning_rate - default is 5e-5, our notebook had 2e-5\n",
        "                    eps = 1e-8 # args.adam_epsilon  - default is 1e-8.\n",
        "                  )\n",
        "\n",
        "total_steps = (dataset_size-split) * epochs\n",
        "\n",
        "scheduler = get_linear_schedule_with_warmup(optimizer, \n",
        "                                              num_warmup_steps = 0, # Default value in run_glue.py\n",
        "                                              num_training_steps = total_steps)\n",
        "\n",
        "train_losses=[]\n",
        "#for each epoch\n",
        "f_score_best=0\n",
        "for epoch in range(epochs):\n",
        "      print('\\n Epoch {:} / {:}'.format(epoch + 1, epochs))\n",
        "      \n",
        "\n",
        "      try:       model.load_state_dict(torch.load('./models_ro/{}.pt'.format(dataset)))\n",
        "      except: 1\n",
        "      train_set, val_set = torch.utils.data.random_split(dataloader.dataset, lengths=[int(len(dataloader.dataset)*0.7), len(dataloader.dataset) - int(len(dataloader.dataset)*0.7)])\n",
        "\n",
        "      train_sampler = RandomSampler(train_set)\n",
        "      valid_sampler = RandomSampler(val_set)\n",
        "\n",
        "      train_dataloader = torch.utils.data.DataLoader(train_set , sampler=train_sampler, batch_size=batch_size)\n",
        "\n",
        "      validation_loader = torch.utils.data.DataLoader(val_set , \n",
        "                                                            sampler=valid_sampler, batch_size=batch_size)\n",
        "      #train model\n",
        "\n",
        "      train_loss,  train_acc , precision, recall, f_score,  _= train_validate_roberta( model, train_dataloader, scheduler, optimizer, train=True)\n",
        "\n",
        "      train_loss,  train_acc , precision, recall, f_score,  _= train_validate_roberta( model, validation_loader, scheduler, optimizer, train=False)\n",
        "      if f_score_best< f_score:\n",
        "          torch.save(model.state_dict(), './models_ro/{}.pt'.format(dataset))\n",
        "          print(\"updating\")\n",
        "          if  str(f_score)!='nan':\n",
        "            f_score_best= f_score\n",
        "            \n",
        "      print(f'\\nTraining Loss: {train_loss:.3f} Training Accuracy {train_acc:.3f}')\n",
        "      print(f'\\nPrecision: {precision:.3f} Recall {recall:.3f} F-Score {f_score:.3f}')\n",
        "      # append training and validation loss\n",
        "      train_losses.append(train_loss)\n"
      ],
      "metadata": {
        "id": "PDNuj1tpNMHg"
      },
      "execution_count": null,
      "outputs": []
    },
    {
      "cell_type": "code",
      "execution_count": null,
      "metadata": {
        "colab": {
          "base_uri": "https://localhost:8080/",
          "height": 776
        },
        "id": "xSDcal6tGmvD",
        "outputId": "d690a2fa-960b-4cdc-a8a4-c918e1a7147e"
      },
      "outputs": [
        {
          "output_type": "stream",
          "name": "stdout",
          "text": [
            "  Batch 40  of  106.\n",
            "  Batch 80  of  106.\n",
            "Arabic antisocial-arabic 0.8481300539083557 0.6713286713286714 0.7859649122807018 0.7241379310344828\n",
            "  Batch 40  of  58.\n",
            "Arabic offenseval2020-arabic 0.9100215517241379 0.7700534759358288 0.7804878048780488 0.7752355316285331\n",
            "Dannish offenseval2020-dannish 0.8844696969696969 0.6 0.5853658536585366 0.5925925925925926\n",
            "German IWG_hatespeech_public 0.7350961538461538 0.4375 0.65625 0.525\n",
            "  Batch 40  of  47.\n",
            "German germeval2018 0.8097331846259437 0.7316561844863732 0.6883629191321499 0.709349593495935\n",
            "Portugese OffComBR 0.8238636363636364 0.5394736842105263 0.6721311475409836 0.5985401459854015\n",
            "  Batch 40  of  110.\n",
            "  Batch 80  of  110.\n",
            "Turkish offenseval2020-turkish 0.867918771043771 0.6708160442600276 0.6821378340365682 0.6764295676429568\n",
            "French mlma_hate_speech 0.7178101503759399 0.860302677532014 0.7705943691345151 0.812981298129813\n",
            "  Batch 40  of  49.\n",
            "Italian ihsc 0.8564228110599078 0.5387596899224806 0.5673469387755102 0.5526838966202784\n",
            "  Batch 40  of  57.\n",
            "Spanish pereira 0.8004385964912281 0.6157024793388429 0.6340425531914894 0.6247379454926625\n",
            "Spanish violentometro 0.8075657894736842 0.38613861386138615 0.43820224719101125 0.41052631578947363\n"
          ]
        },
        {
          "output_type": "display_data",
          "data": {
            "image/png": "[encoded data removed]",
            "text/plain": [
              "<Figure size 1440x360 with 2 Axes>"
            ]
          },
          "metadata": {
            "needs_background": "light"
          }
        }
      ],
      "source": [
        "Final ={}\n",
        "for language2 in tensors_roberta.keys():\n",
        "    for dataset2 in tensors_roberta[language2].keys():\n",
        "          test_dataloader = tensors_roberta[language2][dataset2]['test']\n",
        "          train_loss,  train_acc , precision, recall, f_score,  _= train_validate_roberta( model, test_dataloader, scheduler, optimizer, train=False)\n",
        "          Final[dataset2]= {'accuracy':train_acc, 'precision':precision, 'recall': recall, 'f_score': f_score}\n",
        "          print(language2, dataset2, train_acc , precision, recall, f_score)\n",
        "language =\"All\"\n",
        "dataset =\"All\"\n",
        "plotResults(Final, language, dataset)"
      ]
    },
    {
      "cell_type": "code",
      "source": [
        ""
      ],
      "metadata": {
        "id": "eOgCTkf-HO7G"
      },
      "execution_count": null,
      "outputs": []
    },
    {
      "cell_type": "markdown",
      "source": [
        "## Solution 2\n"
      ],
      "metadata": {
        "id": "ZEPRMNIXAbsm"
      }
    },
    {
      "cell_type": "markdown",
      "source": [
        "This solution proposes to perform Knowledge Distillation for Profanity Detection. Here we are attempting to distill knowledge from French model to an Italian dataset."
      ],
      "metadata": {
        "id": "bgXGI3Z7VjYR"
      }
    },
    {
      "cell_type": "markdown",
      "source": [
        "Reads the French and Italian parallel datasets and creates an common datafrom from both."
      ],
      "metadata": {
        "id": "Me4dX8C_VyhL"
      }
    },
    {
      "cell_type": "code",
      "source": [
        "df1 =pd.read_csv('./Distillation/ihsc_it.csv')\n",
        "df2 =pd.read_csv('./Distillation/ihsc_fr.csv')\n",
        "df = pd.DataFrame()\n",
        "df2 = df2[df2.index.isin(df1.index)]\n",
        "df['input_it'] = df1['input']\n",
        "df['input_fr'] = df2['input']\n",
        "df['hate'] = df1['hate']\n",
        "\n",
        "df = df.dropna()\n",
        "\n",
        "max_seq_len = 64\n",
        "batch_size = 32\n",
        "\n",
        "#first is the teacher language, i,.e., french\n",
        "X_train, y_train = fixImbalance(df.index, df['hate'])\n",
        "df = df.iloc[X_train]\n",
        "seq_train_first, mask_train_first = tokenize_encode_tensors(df[\"input_fr\"].astype(str), max_seq_len)\n",
        "seq_train_second, mask_train_second = tokenize_encode_tensors(df['input_it'], max_seq_len)\n",
        "\n",
        "out_train = torch.tensor(y_train).long()\n",
        "# wrap tensors\n",
        "\n",
        "train_data = TensorDataset(seq_train_first, mask_train_first ,seq_train_second, mask_train_second,  out_train)\n",
        "train_sampler = RandomSampler(train_data)\n",
        "train_dataloader_all = DataLoader(train_data, sampler=train_sampler, batch_size=batch_size)"
      ],
      "metadata": {
        "colab": {
          "base_uri": "https://localhost:8080/"
        },
        "id": "nlsl6AzaC7Zl",
        "outputId": "3e02eacd-374d-4296-8338-dfca11ae79ee"
      },
      "execution_count": null,
      "outputs": [
        {
          "output_type": "stream",
          "name": "stderr",
          "text": [
            "/usr/local/lib/python3.7/dist-packages/transformers/tokenization_utils_base.py:2232: FutureWarning: The `pad_to_max_length` argument is deprecated and will be removed in a future version, use `padding=True` or `padding='longest'` to pad to the longest sequence in the batch, or use `padding='max_length'` to pad to a max length. In this case, you can give a specific length with `max_length` (e.g. `max_length=45`) or leave max_length to None to pad to the maximal input size of the model (e.g. 512 for Bert).\n",
            "  FutureWarning,\n"
          ]
        }
      ]
    },
    {
      "cell_type": "markdown",
      "source": [
        "Prepares the models and dataloaders."
      ],
      "metadata": {
        "id": "5vO3UEVzWMmy"
      }
    },
    {
      "cell_type": "code",
      "source": [
        "mBertTeacher = BertModel.from_pretrained('bert-base-multilingual-uncased')\n",
        "tokenizer = BertTokenizer.from_pretrained('bert-base-multilingual-uncased')\n",
        "\n",
        "mBertTeacher = freeze(mBertTeacher, 0)\n",
        "teacher =ProfanityDetector_mBERT(mBertTeacher)\n",
        "teacher = teacher.to(device)\n",
        "teacher.load_state_dict(torch.load('./models/{}.pt'.format(\"ALLDatasets2\")))\n",
        "\n",
        "french_dataloader, italian_dataloader = createDataLoader(df2['input'].astype(str), df2['hate'], df1['input'].astype(str), df1['hate'], max_seq_len,batch_size)\n",
        "# teacher, _, _ = trainMBert( french_dataloader, \"french_italian\", 10, 0.7, model=teacher)\n",
        "\n",
        "teacher.bert =  freeze(teacher.bert, 20)\n",
        "# torch.save(teacher.state_dict(), './models/{}.pt'.format(\"AllDatasetsFinedTunedOnFrench\"))"
      ],
      "metadata": {
        "colab": {
          "base_uri": "https://localhost:8080/"
        },
        "id": "R4EzVSYwCCzT",
        "outputId": "442d65f6-71af-4160-e976-d72c6252bcf0"
      },
      "execution_count": null,
      "outputs": [
        {
          "output_type": "stream",
          "name": "stderr",
          "text": [
            "Some weights of the model checkpoint at bert-base-multilingual-uncased were not used when initializing BertModel: ['cls.predictions.decoder.weight', 'cls.predictions.transform.LayerNorm.weight', 'cls.seq_relationship.weight', 'cls.predictions.bias', 'cls.predictions.transform.LayerNorm.bias', 'cls.seq_relationship.bias', 'cls.predictions.transform.dense.bias', 'cls.predictions.transform.dense.weight']\n",
            "- This IS expected if you are initializing BertModel from the checkpoint of a model trained on another task or with another architecture (e.g. initializing a BertForSequenceClassification model from a BertForPreTraining model).\n",
            "- This IS NOT expected if you are initializing BertModel from the checkpoint of a model that you expect to be exactly identical (initializing a BertForSequenceClassification model from a BertForSequenceClassification model).\n",
            "/usr/local/lib/python3.7/dist-packages/transformers/tokenization_utils_base.py:2232: FutureWarning: The `pad_to_max_length` argument is deprecated and will be removed in a future version, use `padding=True` or `padding='longest'` to pad to the longest sequence in the batch, or use `padding='max_length'` to pad to a max length. In this case, you can give a specific length with `max_length` (e.g. `max_length=45`) or leave max_length to None to pad to the maximal input size of the model (e.g. 512 for Bert).\n",
            "  FutureWarning,\n"
          ]
        },
        {
          "output_type": "stream",
          "name": "stdout",
          "text": [
            "Freezing layer 0\n",
            "Freezing layer 1\n",
            "Freezing layer 2\n",
            "Freezing layer 3\n",
            "Freezing layer 4\n",
            "Freezing layer 5\n",
            "Freezing layer 6\n",
            "Freezing layer 7\n",
            "Freezing layer 8\n",
            "Freezing layer 9\n",
            "Freezing layer 10\n",
            "Freezing layer 11\n"
          ]
        }
      ]
    },
    {
      "cell_type": "code",
      "source": [
        "mBertStudent = BertModel.from_pretrained('bert-base-multilingual-uncased')\n",
        "mBertStudent = freeze(mBertStudent, 0)\n",
        "student =ProfanityDetector_mBERT(mBertStudent)\n",
        "student = student.to(device)"
      ],
      "metadata": {
        "colab": {
          "base_uri": "https://localhost:8080/"
        },
        "id": "rW8cziRxCf3Q",
        "outputId": "e227f814-09b3-4cad-f209-f4bcefe8f744"
      },
      "execution_count": null,
      "outputs": [
        {
          "output_type": "stream",
          "name": "stderr",
          "text": [
            "Some weights of the model checkpoint at bert-base-multilingual-uncased were not used when initializing BertModel: ['cls.predictions.decoder.weight', 'cls.predictions.transform.LayerNorm.weight', 'cls.seq_relationship.weight', 'cls.predictions.bias', 'cls.predictions.transform.LayerNorm.bias', 'cls.seq_relationship.bias', 'cls.predictions.transform.dense.bias', 'cls.predictions.transform.dense.weight']\n",
            "- This IS expected if you are initializing BertModel from the checkpoint of a model trained on another task or with another architecture (e.g. initializing a BertForSequenceClassification model from a BertForPreTraining model).\n",
            "- This IS NOT expected if you are initializing BertModel from the checkpoint of a model that you expect to be exactly identical (initializing a BertForSequenceClassification model from a BertForSequenceClassification model).\n"
          ]
        }
      ]
    },
    {
      "cell_type": "code",
      "source": [
        "epochs=10\n",
        "dataloader = train_dataloader_all\n",
        "dataset_size = len(dataloader)\n",
        "validation_split=0.7\n",
        "split = int(np.floor(validation_split * dataset_size))\n",
        "optimizer = AdamW(student.parameters(),\n",
        "                    lr = 1e-6, # args.learning_rate - default is 5e-5, our notebook had 2e-5\n",
        "                    eps = 1e-8 # args.adam_epsilon  - default is 1e-8.\n",
        "                  )\n",
        "\n",
        "\n",
        "\n",
        "  # Total number of training steps is number of batches * number of epochs.\n",
        "total_steps = (dataset_size-split) * epochs\n",
        "\n",
        "  # Create the learning rate scheduler.\n",
        "scheduler = get_linear_schedule_with_warmup(optimizer, \n",
        "                                              num_warmup_steps = 0, # Default value in run_glue.py\n",
        "                                              num_training_steps = total_steps)"
      ],
      "metadata": {
        "id": "BY7sZO1JCtjN"
      },
      "execution_count": null,
      "outputs": []
    },
    {
      "cell_type": "markdown",
      "source": [
        "Defines a custom loss function to be used in training and defines the training and validation function for knowledge distillation."
      ],
      "metadata": {
        "id": "_QxAdWBOWVHC"
      }
    },
    {
      "cell_type": "code",
      "source": [
        "def train_validate_distilled( model, teacher,  dataloader, scheduler, optimizer, train):\n",
        "  if train: \n",
        "    model.train()\n",
        "  else: \n",
        "    model.eval()\n",
        "\n",
        "  total_loss, total_accuracy = 0, 0\n",
        "  # empty list to save model predictions\n",
        "  total_preds=[]\n",
        "  # iterate over batches\n",
        "  i=0  \n",
        "  acc=[]\n",
        "\n",
        "  mse = nn.MSELoss()\n",
        "  target_true =0\n",
        "  predicted_true =0\n",
        "  correct_true =0\n",
        "  for step,batch in enumerate(dataloader):\n",
        "    i+=1\n",
        "    if step%20==0 and step != 0 and train:\n",
        "      print('  Batch {}  of  {}.'.format(step, len(dataloader)))\n",
        "\n",
        "    if step%40==0 and step != 0 and not train:\n",
        "      print('  Batch {}  of  {}.'.format(step, len(dataloader)))\n",
        "\n",
        "    # push the batch to gpu\n",
        "    batch = [r.to(device) for r in batch]\n",
        " \n",
        "    \n",
        "    sent_id_first, mask_first, sent_id_second, mask_second, label = batch\n",
        "\n",
        "    if train:\n",
        "      # clear previously calculated gradients \n",
        "      model.zero_grad()        \n",
        "      optimizer.zero_grad()\n",
        "    target = teacher(sent_id_first, mask_first)\n",
        "    with torch.set_grad_enabled(train): #only enable when training    \n",
        "          pred_score_1 = model(sent_id_first, mask_first) # french\n",
        "          pred_score_2 = model(sent_id_second, mask_second) #italian\n",
        "    \n",
        "          #before softmax\n",
        "          loss =  my_loss(pred_score_2, target)  + my_loss(pred_score_1, target)  #+ my_loss(pred_score_1, target) \n",
        "          \n",
        "          \n",
        "          if train:\n",
        "            loss.backward()\n",
        "            torch.nn.utils.clip_grad_norm_(model.parameters(), 1.0)  # clip the the gradients to 1.0. It helps in preventing the exploding gradient problem\n",
        "            optimizer.step()\n",
        "            scheduler.step()\n",
        "    # push model predictions from GPU to CPU\n",
        "    pred_score=pred_score_2.detach().cpu().numpy()\n",
        "    \n",
        "    total_loss = total_loss + loss.item()\n",
        "    acc.append(flat_accuracy(pred_score, label.detach().cpu().numpy()))\n",
        "\n",
        "    \n",
        "    predicted_classes = np.argmax(pred_score, axis=1).flatten()\n",
        "    target_classes = label.detach().cpu().numpy().flatten()\n",
        "\n",
        "    target_true += np.sum(target_classes)\n",
        "    predicted_true += np.sum(predicted_classes)\n",
        "\n",
        "    correct_true += np.sum((predicted_classes == target_classes) & (predicted_classes == 1))\n",
        "\n",
        "    # append the model predictions\n",
        "    total_preds.append(pred_score)\n",
        "\n",
        "  # compute the training loss of the epoch\n",
        "  avg_loss = total_loss / len(dataloader)\n",
        "  acc = np.mean(acc)\n",
        "\n",
        "  \n",
        "  recall = correct_true / target_true\n",
        "  precision = correct_true / predicted_true\n",
        "  f1_score = 2 * precision * recall / (precision + recall)\n",
        "  # Reshape the predictions in form of (number of samples, no. of classes)\n",
        "  total_preds  = np.concatenate(total_preds, axis=0)\n",
        "  return avg_loss,acc, precision, recall, f1_score,  total_preds \n"
      ],
      "metadata": {
        "id": "9HovmZ5XMymJ"
      },
      "execution_count": null,
      "outputs": []
    },
    {
      "cell_type": "code",
      "execution_count": null,
      "metadata": {
        "id": "Fl4OxKke0aKu",
        "colab": {
          "base_uri": "https://localhost:8080/"
        },
        "outputId": "63baf455-6969-4014-9479-06d69bfaa81a"
      },
      "outputs": [
        {
          "output_type": "stream",
          "name": "stdout",
          "text": [
            "\n",
            " Epoch 1 / 10\n",
            "  Batch 20  of  193.\n",
            "  Batch 40  of  193.\n",
            "  Batch 60  of  193.\n",
            "  Batch 80  of  193.\n",
            "  Batch 100  of  193.\n",
            "  Batch 120  of  193.\n",
            "  Batch 140  of  193.\n",
            "  Batch 160  of  193.\n",
            "  Batch 180  of  193.\n",
            "  Batch 40  of  83.\n",
            "  Batch 80  of  83.\n",
            "updating\n",
            "\n",
            "Training Loss: 0.127 Training Accuracy 0.719\n"
          ]
        },
        {
          "output_type": "stream",
          "name": "stderr",
          "text": [
            "/usr/local/lib/python3.7/dist-packages/ipykernel_launcher.py:128: UserWarning: Implicit dimension choice for softmax has been deprecated. Change the call to include dim=X as an argument.\n"
          ]
        },
        {
          "output_type": "stream",
          "name": "stdout",
          "text": [
            "  Batch 40  of  110.\n",
            "  Batch 80  of  110.\n",
            "Turkish offenseval2020-turkish 0.7629840067340068 0.39335664335664333 0.31645569620253167 0.35074045206547155\n",
            "French mlma_hate_speech 0.48504072681704263 0.8803611738148984 0.40667361835245047 0.5563480741797433\n",
            "  Batch 40  of  49.\n",
            "Italian ihsc 0.8564228110599078 0.545045045045045 0.49387755102040815 0.5182012847965739\n",
            "\n",
            " Epoch 2 / 10\n",
            "  Batch 20  of  193.\n",
            "  Batch 40  of  193.\n",
            "  Batch 60  of  193.\n",
            "  Batch 80  of  193.\n",
            "  Batch 100  of  193.\n",
            "  Batch 120  of  193.\n",
            "  Batch 140  of  193.\n",
            "  Batch 160  of  193.\n",
            "  Batch 180  of  193.\n",
            "  Batch 40  of  83.\n",
            "  Batch 80  of  83.\n",
            "updating\n",
            "\n",
            "Training Loss: 0.108 Training Accuracy 0.736\n",
            "  Batch 40  of  110.\n",
            "  Batch 80  of  110.\n",
            "Turkish offenseval2020-turkish 0.7612794612794613 0.3926174496644295 0.3291139240506329 0.35807192042846214\n",
            "French mlma_hate_speech 0.5042684837092731 0.8773388773388774 0.44004171011470283 0.5861111111111111\n",
            "  Batch 40  of  49.\n",
            "Italian ihsc 0.8564228110599078 0.540650406504065 0.5428571428571428 0.5417515274949083\n",
            "\n",
            " Epoch 3 / 10\n",
            "  Batch 20  of  193.\n",
            "  Batch 40  of  193.\n",
            "  Batch 60  of  193.\n",
            "  Batch 80  of  193.\n",
            "  Batch 100  of  193.\n",
            "  Batch 120  of  193.\n",
            "  Batch 140  of  193.\n",
            "  Batch 160  of  193.\n",
            "  Batch 180  of  193.\n",
            "  Batch 40  of  83.\n",
            "  Batch 80  of  83.\n",
            "updating\n",
            "\n",
            "Training Loss: 0.099 Training Accuracy 0.733\n",
            "  Batch 40  of  110.\n",
            "  Batch 80  of  110.\n",
            "Turkish offenseval2020-turkish 0.7724642255892256 0.4111776447105788 0.28973277074542897 0.33993399339933994\n",
            "French mlma_hate_speech 0.4903665413533835 0.8822222222222222 0.41397288842544316 0.5635202271114265\n",
            "  Batch 40  of  49.\n",
            "Italian ihsc 0.8672235023041475 0.5814977973568282 0.5387755102040817 0.5593220338983051\n",
            "\n",
            " Epoch 4 / 10\n",
            "  Batch 20  of  193.\n",
            "  Batch 40  of  193.\n",
            "  Batch 60  of  193.\n",
            "  Batch 80  of  193.\n",
            "  Batch 100  of  193.\n",
            "  Batch 120  of  193.\n",
            "  Batch 140  of  193.\n",
            "  Batch 160  of  193.\n",
            "  Batch 180  of  193.\n",
            "  Batch 40  of  83.\n",
            "  Batch 80  of  83.\n",
            "updating\n",
            "\n",
            "Training Loss: 0.094 Training Accuracy 0.731\n",
            "  Batch 40  of  110.\n",
            "  Batch 80  of  110.\n",
            "Turkish offenseval2020-turkish 0.7725378787878788 0.41020408163265304 0.28270042194092826 0.3347210657785179\n",
            "French mlma_hate_speech 0.48778195488721804 0.8739130434782608 0.4191866527632951 0.5665961945031712\n",
            "  Batch 40  of  49.\n",
            "Italian ihsc 0.8691984858459514 0.5869565217391305 0.5510204081632653 0.568421052631579\n",
            "\n",
            " Epoch 5 / 10\n",
            "  Batch 20  of  193.\n",
            "  Batch 40  of  193.\n",
            "  Batch 60  of  193.\n",
            "  Batch 80  of  193.\n",
            "  Batch 100  of  193.\n",
            "  Batch 120  of  193.\n",
            "  Batch 140  of  193.\n",
            "  Batch 160  of  193.\n",
            "  Batch 180  of  193.\n",
            "  Batch 40  of  83.\n",
            "  Batch 80  of  83.\n",
            "updating\n",
            "\n",
            "Training Loss: 0.094 Training Accuracy 0.734\n",
            "  Batch 40  of  110.\n",
            "  Batch 80  of  110.\n",
            "Turkish offenseval2020-turkish 0.7743476430976431 0.4152892561983471 0.28270042194092826 0.3364016736401674\n",
            "French mlma_hate_speech 0.4890742481203007 0.8739130434782608 0.4191866527632951 0.5665961945031712\n",
            "  Batch 40  of  49.\n",
            "Italian ihsc 0.8690956221198157 0.5869565217391305 0.5510204081632653 0.568421052631579\n",
            "\n",
            " Epoch 6 / 10\n",
            "  Batch 20  of  193.\n",
            "  Batch 40  of  193.\n",
            "  Batch 60  of  193.\n",
            "  Batch 80  of  193.\n",
            "  Batch 100  of  193.\n",
            "  Batch 120  of  193.\n",
            "  Batch 140  of  193.\n",
            "  Batch 160  of  193.\n",
            "  Batch 180  of  193.\n",
            "  Batch 40  of  83.\n",
            "  Batch 80  of  83.\n",
            "\n",
            "Training Loss: 0.099 Training Accuracy 0.732\n",
            "  Batch 40  of  110.\n",
            "  Batch 80  of  110.\n",
            "Turkish offenseval2020-turkish 0.7744002525252525 0.4152892561983471 0.28270042194092826 0.3364016736401674\n",
            "French mlma_hate_speech 0.4903665413533835 0.8739130434782608 0.4191866527632951 0.5665961945031712\n",
            "  Batch 40  of  49.\n",
            "Italian ihsc 0.8692190585911784 0.5869565217391305 0.5510204081632653 0.568421052631579\n",
            "\n",
            " Epoch 7 / 10\n",
            "  Batch 20  of  193.\n",
            "  Batch 40  of  193.\n",
            "  Batch 60  of  193.\n",
            "  Batch 80  of  193.\n",
            "  Batch 100  of  193.\n",
            "  Batch 120  of  193.\n",
            "  Batch 140  of  193.\n",
            "  Batch 160  of  193.\n",
            "  Batch 180  of  193.\n",
            "  Batch 40  of  83.\n",
            "  Batch 80  of  83.\n",
            "\n",
            "Training Loss: 0.094 Training Accuracy 0.726\n",
            "  Batch 40  of  110.\n",
            "  Batch 80  of  110.\n",
            "Turkish offenseval2020-turkish 0.7745054713804713 0.4152892561983471 0.28270042194092826 0.3364016736401674\n",
            "French mlma_hate_speech 0.48778195488721804 0.8739130434782608 0.4191866527632951 0.5665961945031712\n",
            "  Batch 40  of  49.\n",
            "Italian ihsc 0.8691984858459514 0.5869565217391305 0.5510204081632653 0.568421052631579\n",
            "\n",
            " Epoch 8 / 10\n",
            "  Batch 20  of  193.\n",
            "  Batch 40  of  193.\n",
            "  Batch 60  of  193.\n",
            "  Batch 80  of  193.\n",
            "  Batch 100  of  193.\n",
            "  Batch 120  of  193.\n",
            "  Batch 140  of  193.\n",
            "  Batch 160  of  193.\n",
            "  Batch 180  of  193.\n",
            "  Batch 40  of  83.\n",
            "  Batch 80  of  83.\n",
            "updating\n",
            "\n",
            "Training Loss: 0.093 Training Accuracy 0.726\n",
            "  Batch 40  of  110.\n",
            "  Batch 80  of  110.\n",
            "Turkish offenseval2020-turkish 0.7741898148148149 0.4152892561983471 0.28270042194092826 0.3364016736401674\n",
            "French mlma_hate_speech 0.4903665413533835 0.8739130434782608 0.4191866527632951 0.5665961945031712\n",
            "  Batch 40  of  49.\n",
            "Italian ihsc 0.8692190585911784 0.5869565217391305 0.5510204081632653 0.568421052631579\n",
            "\n",
            " Epoch 9 / 10\n",
            "  Batch 20  of  193.\n",
            "  Batch 40  of  193.\n",
            "  Batch 60  of  193.\n",
            "  Batch 80  of  193.\n",
            "  Batch 100  of  193.\n",
            "  Batch 120  of  193.\n",
            "  Batch 140  of  193.\n",
            "  Batch 160  of  193.\n",
            "  Batch 180  of  193.\n",
            "  Batch 40  of  83.\n",
            "  Batch 80  of  83.\n",
            "\n",
            "Training Loss: 0.100 Training Accuracy 0.745\n",
            "  Batch 40  of  110.\n",
            "  Batch 80  of  110.\n",
            "Turkish offenseval2020-turkish 0.7744002525252525 0.4152892561983471 0.28270042194092826 0.3364016736401674\n",
            "French mlma_hate_speech 0.4890742481203007 0.8739130434782608 0.4191866527632951 0.5665961945031712\n",
            "  Batch 40  of  49.\n",
            "Italian ihsc 0.8691984858459514 0.5869565217391305 0.5510204081632653 0.568421052631579\n",
            "\n",
            " Epoch 10 / 10\n",
            "  Batch 20  of  193.\n",
            "  Batch 40  of  193.\n",
            "  Batch 60  of  193.\n",
            "  Batch 80  of  193.\n",
            "  Batch 100  of  193.\n",
            "  Batch 120  of  193.\n",
            "  Batch 140  of  193.\n",
            "  Batch 160  of  193.\n",
            "  Batch 180  of  193.\n",
            "  Batch 40  of  83.\n",
            "  Batch 80  of  83.\n",
            "updating\n",
            "\n",
            "Training Loss: 0.090 Training Accuracy 0.730\n",
            "  Batch 40  of  110.\n",
            "  Batch 80  of  110.\n",
            "Turkish offenseval2020-turkish 0.7743476430976431 0.4152892561983471 0.28270042194092826 0.3364016736401674\n",
            "French mlma_hate_speech 0.48993577694235596 0.8739130434782608 0.4191866527632951 0.5665961945031712\n",
            "  Batch 40  of  49.\n",
            "Italian ihsc 0.869157340355497 0.5869565217391305 0.5510204081632653 0.568421052631579\n"
          ]
        }
      ],
      "source": [
        "train_losses=[]\n",
        "  #for each epoch\n",
        "\n",
        "train_loss_best=1000\n",
        "for epoch in range(epochs):\n",
        "      print('\\n Epoch {:} / {:}'.format(epoch + 1, epochs))\n",
        "      \n",
        "\n",
        "      try:  \n",
        "        student.load_state_dict(torch.load('./models/distilled_{}.pt'.format(\"Experiment 2\")))\n",
        "      except: 1\n",
        "      train_set, val_set = torch.utils.data.random_split(dataloader.dataset, lengths=[int(len(dataloader.dataset)*0.7), len(dataloader.dataset) - int(len(dataloader.dataset)*0.7)])\n",
        "\n",
        "      train_sampler = RandomSampler(train_set)\n",
        "      valid_sampler = RandomSampler(val_set)\n",
        "\n",
        "      train_dataloader = torch.utils.data.DataLoader(train_set , sampler=train_sampler, batch_size=batch_size)\n",
        "\n",
        "      validation_loader = torch.utils.data.DataLoader(val_set , sampler=valid_sampler, batch_size=batch_size)\n",
        "      #train model\n",
        "      train_loss,  train_acc , precision, recall, f_score,  _= train_validate_distilled( student, teacher, train_dataloader, scheduler, optimizer, train=True)\n",
        "      train_loss,  train_acc , precision, recall, f_score,  _= train_validate_distilled( student, teacher, validation_loader, scheduler, optimizer, train=False)\n",
        "\n",
        "      if train_loss_best> train_loss:\n",
        "          torch.save(student.state_dict(), './models/distilled_{}.pt'.format(\"Experiment 2\"))\n",
        "          print(\"updating\")\n",
        "          train_loss_best= train_loss\n",
        "\n",
        "      print(f'\\nTraining Loss: {train_loss:.3f} Training Accuracy {train_acc:.3f}')\n",
        "\n",
        "      train_losses.append(train_loss)\n",
        "\n",
        "      Final ={}\n",
        "      for language2 in tensors.keys():\n",
        "          if language2 in ['Italian', 'French', 'Turkish']:\n",
        "            for dataset2 in tensors[language2].keys():\n",
        "                  test_dataloader = tensors[language2][dataset2]['test']\n",
        "                  train_loss,  train_acc , precision, recall, f_score,  _= train_validate( student,  test_dataloader, scheduler, optimizer, train=False)\n",
        "                  Final[dataset2]= {'accuracy':train_acc, 'precision':precision, 'recall': recall, 'f_score': f_score}\n",
        "                  print(language2, dataset2, train_acc , precision, recall, f_score)\n",
        "             \n",
        "\n"
      ]
    },
    {
      "cell_type": "markdown",
      "source": [
        "Plotting the results for the Italian test data."
      ],
      "metadata": {
        "id": "nMCIBu3kWvlk"
      }
    },
    {
      "cell_type": "code",
      "source": [
        "Final ={}\n",
        "for language2 in tensors.keys():\n",
        "      for dataset2 in tensors[language2].keys():\n",
        "            test_dataloader = tensors[language2][dataset2]['test']\n",
        "            train_loss,  train_acc , precision, recall, f_score,  _= train_validate( student,  test_dataloader, scheduler, optimizer, train=False)\n",
        "            Final[dataset2]= {'accuracy':train_acc, 'precision':precision, 'recall': recall, 'f_score': f_score}\n",
        "            print(language2, dataset2, train_acc , precision, recall, f_score)\n",
        "        \n",
        "language =\"All\"\n",
        "dataset =\"All\"\n",
        "plotResults(Final, language, dataset)"
      ],
      "metadata": {
        "colab": {
          "base_uri": "https://localhost:8080/",
          "height": 813
        },
        "id": "0g9WFI1VTP6g",
        "outputId": "5ed8a53d-4ae0-4294-9b55-f4d698b24373"
      },
      "execution_count": null,
      "outputs": [
        {
          "output_type": "stream",
          "name": "stderr",
          "text": [
            "/usr/local/lib/python3.7/dist-packages/ipykernel_launcher.py:128: UserWarning: Implicit dimension choice for softmax has been deprecated. Change the call to include dim=X as an argument.\n"
          ]
        },
        {
          "output_type": "stream",
          "name": "stdout",
          "text": [
            "  Batch 40  of  106.\n",
            "  Batch 80  of  106.\n",
            "Arabic antisocial-arabic 0.6309523809523809 0.3197781885397412 0.4046783625730994 0.35725348477026325\n",
            "  Batch 40  of  58.\n",
            "Arabic offenseval2020-arabic 0.7458692528735632 0.3560371517027864 0.3116531165311653 0.3323699421965318\n",
            "Dannish offenseval2020-dannish 0.8207070707070708 0.3023255813953488 0.3170731707317073 0.30952380952380953\n",
            "German IWG_hatespeech_public 0.7192307692307692 0.3076923076923077 0.25 0.27586206896551724\n",
            "  Batch 40  of  47.\n",
            "German germeval2018 0.7151896019217571 0.7365269461077845 0.24260355029585798 0.3649851632047477\n",
            "Portugese OffComBR 0.7264204545454545 0.30357142857142855 0.2786885245901639 0.29059829059829057\n",
            "  Batch 40  of  110.\n",
            "  Batch 80  of  110.\n",
            "Turkish offenseval2020-turkish 0.7743476430976431 0.4152892561983471 0.28270042194092826 0.3364016736401674\n",
            "French mlma_hate_speech 0.48993577694235596 0.8739130434782608 0.4191866527632951 0.5665961945031712\n",
            "  Batch 40  of  49.\n",
            "Italian ihsc 0.8690956221198157 0.5869565217391305 0.5510204081632653 0.568421052631579\n",
            "  Batch 40  of  57.\n",
            "Spanish pereira 0.7330043859649122 0.4774193548387097 0.3148936170212766 0.3794871794871795\n",
            "Spanish violentometro 0.793859649122807 0.34285714285714286 0.4044943820224719 0.3711340206185567\n"
          ]
        },
        {
          "output_type": "display_data",
          "data": {
            "image/png": "[encoded data removed]",
            "text/plain": [
              "<Figure size 1440x360 with 2 Axes>"
            ]
          },
          "metadata": {
            "needs_background": "light"
          }
        }
      ]
    },
    {
      "cell_type": "markdown",
      "source": [
        "Plotting the results for the teacher model"
      ],
      "metadata": {
        "id": "oyUwBj4QxBz0"
      }
    },
    {
      "cell_type": "code",
      "source": [
        "Final ={}\n",
        "for language2 in tensors.keys():\n",
        "      for dataset2 in tensors[language2].keys():\n",
        "            test_dataloader = tensors[language2][dataset2]['test']\n",
        "            train_loss,  train_acc , precision, recall, f_score,  _= train_validate( teacher,  test_dataloader, scheduler, optimizer, train=False)\n",
        "            Final[dataset2]= {'accuracy':train_acc, 'precision':precision, 'recall': recall, 'f_score': f_score}\n",
        "            print(language2, dataset2, train_acc , precision, recall, f_score)\n",
        "        \n",
        "language =\"All\"\n",
        "dataset =\"All\"\n",
        "plotResults(Final, language, dataset)"
      ],
      "metadata": {
        "colab": {
          "base_uri": "https://localhost:8080/",
          "height": 813
        },
        "id": "5qbgCTIVTP-G",
        "outputId": "838c69a8-371b-41a3-a8e7-977a023f8fcb"
      },
      "execution_count": null,
      "outputs": [
        {
          "output_type": "stream",
          "name": "stderr",
          "text": [
            "/usr/local/lib/python3.7/dist-packages/ipykernel_launcher.py:128: UserWarning: Implicit dimension choice for softmax has been deprecated. Change the call to include dim=X as an argument.\n"
          ]
        },
        {
          "output_type": "stream",
          "name": "stdout",
          "text": [
            "  Batch 40  of  106.\n",
            "  Batch 80  of  106.\n",
            "Arabic antisocial-arabic 0.8390049415992812 0.6631689401888772 0.7391812865497076 0.6991150442477876\n",
            "  Batch 40  of  58.\n",
            "Arabic offenseval2020-arabic 0.8913433908045977 0.7595307917888563 0.7018970189701897 0.7295774647887324\n",
            "Dannish offenseval2020-dannish 0.8945707070707072 0.7142857142857143 0.36585365853658536 0.4838709677419355\n",
            "German IWG_hatespeech_public 0.7504807692307692 0.43243243243243246 0.5 0.463768115942029\n",
            "  Batch 40  of  47.\n",
            "German germeval2018 0.773121139327385 0.6912442396313364 0.591715976331361 0.6376195536663125\n",
            "Portugese OffComBR 0.8039772727272727 0.5102040816326531 0.4098360655737705 0.45454545454545453\n",
            "  Batch 40  of  110.\n",
            "  Batch 80  of  110.\n",
            "Turkish offenseval2020-turkish 0.8451914983164983 0.6114819759679573 0.6441631504922645 0.6273972602739726\n",
            "French mlma_hate_speech 0.8149279448621554 0.9328621908127208 0.8258602711157456 0.8761061946902655\n",
            "  Batch 40  of  49.\n",
            "Italian ihsc 0.9138207702435812 0.7131782945736435 0.7510204081632653 0.7316103379721671\n",
            "  Batch 40  of  57.\n",
            "Spanish pereira 0.8388157894736842 0.6383647798742138 0.8638297872340426 0.7341772151898734\n",
            "Spanish violentometro 0.9046052631578947 0.6504854368932039 0.7528089887640449 0.6979166666666666\n"
          ]
        },
        {
          "output_type": "display_data",
          "data": {
            "image/png": "[encoded data removed]",
            "text/plain": [
              "<Figure size 1440x360 with 2 Axes>"
            ]
          },
          "metadata": {
            "needs_background": "light"
          }
        }
      ]
    },
    {
      "cell_type": "code",
      "source": [
        ""
      ],
      "metadata": {
        "id": "cOsaNZIZjvLo"
      },
      "execution_count": null,
      "outputs": []
    }
  ],
  "metadata": {
    "accelerator": "GPU",
    "colab": {
      "background_execution": "on",
      "collapsed_sections": [],
      "machine_shape": "hm",
      "name": "Profanity Check",
      "provenance": []
    },
    "kernelspec": {
      "display_name": "Python 3",
      "name": "python3"
    },
    "language_info": {
      "name": "python"
    },
    "widgets": {
      "application/vnd.jupyter.widget-state+json": {
        "80de373ed887457db0158e916aa365dd": {
          "model_module": "@jupyter-widgets/controls",
          "model_name": "HBoxModel",
          "model_module_version": "1.5.0",
          "state": {
            "_view_name": "HBoxView",
            "_dom_classes": [],
            "_model_name": "HBoxModel",
            "_view_module": "@jupyter-widgets/controls",
            "_model_module_version": "1.5.0",
            "_view_count": null,
            "_view_module_version": "1.5.0",
            "box_style": "",
            "layout": "IPY_MODEL_5d8c420036d54f26b9c2e2c78d41dae7",
            "_model_module": "@jupyter-widgets/controls",
            "children": [
              "IPY_MODEL_cba9f44e84ee4406ae971921cd6b461a",
              "IPY_MODEL_39d086d216b14cb89b287128091fabd7",
              "IPY_MODEL_63556584e5a74a2b93d007469c369bf5"
            ]
          }
        },
        "5d8c420036d54f26b9c2e2c78d41dae7": {
          "model_module": "@jupyter-widgets/base",
          "model_name": "LayoutModel",
          "model_module_version": "1.2.0",
          "state": {
            "_view_name": "LayoutView",
            "grid_template_rows": null,
            "right": null,
            "justify_content": null,
            "_view_module": "@jupyter-widgets/base",
            "overflow": null,
            "_model_module_version": "1.2.0",
            "_view_count": null,
            "flex_flow": null,
            "width": null,
            "min_width": null,
            "border": null,
            "align_items": null,
            "bottom": null,
            "_model_module": "@jupyter-widgets/base",
            "top": null,
            "grid_column": null,
            "overflow_y": null,
            "overflow_x": null,
            "grid_auto_flow": null,
            "grid_area": null,
            "grid_template_columns": null,
            "flex": null,
            "_model_name": "LayoutModel",
            "justify_items": null,
            "grid_row": null,
            "max_height": null,
            "align_content": null,
            "visibility": null,
            "align_self": null,
            "height": null,
            "min_height": null,
            "padding": null,
            "grid_auto_rows": null,
            "grid_gap": null,
            "max_width": null,
            "order": null,
            "_view_module_version": "1.2.0",
            "grid_template_areas": null,
            "object_position": null,
            "object_fit": null,
            "grid_auto_columns": null,
            "margin": null,
            "display": null,
            "left": null
          }
        },
        "cba9f44e84ee4406ae971921cd6b461a": {
          "model_module": "@jupyter-widgets/controls",
          "model_name": "HTMLModel",
          "model_module_version": "1.5.0",
          "state": {
            "_view_name": "HTMLView",
            "style": "IPY_MODEL_33c57f1715b74750b5403f4fe2a8e6bc",
            "_dom_classes": [],
            "description": "",
            "_model_name": "HTMLModel",
            "placeholder": "​",
            "_view_module": "@jupyter-widgets/controls",
            "_model_module_version": "1.5.0",
            "value": "Downloading: 100%",
            "_view_count": null,
            "_view_module_version": "1.5.0",
            "description_tooltip": null,
            "_model_module": "@jupyter-widgets/controls",
            "layout": "IPY_MODEL_6bea1280be6442a5857d37ff5c82e9b9"
          }
        },
        "39d086d216b14cb89b287128091fabd7": {
          "model_module": "@jupyter-widgets/controls",
          "model_name": "FloatProgressModel",
          "model_module_version": "1.5.0",
          "state": {
            "_view_name": "ProgressView",
            "style": "IPY_MODEL_14eaffe70dfc417e8995670ae50b39b4",
            "_dom_classes": [],
            "description": "",
            "_model_name": "FloatProgressModel",
            "bar_style": "success",
            "max": 512,
            "_view_module": "@jupyter-widgets/controls",
            "_model_module_version": "1.5.0",
            "value": 512,
            "_view_count": null,
            "_view_module_version": "1.5.0",
            "orientation": "horizontal",
            "min": 0,
            "description_tooltip": null,
            "_model_module": "@jupyter-widgets/controls",
            "layout": "IPY_MODEL_0cdea9da6a834cdeb29756adb47b368c"
          }
        },
        "63556584e5a74a2b93d007469c369bf5": {
          "model_module": "@jupyter-widgets/controls",
          "model_name": "HTMLModel",
          "model_module_version": "1.5.0",
          "state": {
            "_view_name": "HTMLView",
            "style": "IPY_MODEL_bf09e6b5bd6e4529aa8ce0df9b89b26e",
            "_dom_classes": [],
            "description": "",
            "_model_name": "HTMLModel",
            "placeholder": "​",
            "_view_module": "@jupyter-widgets/controls",
            "_model_module_version": "1.5.0",
            "value": " 512/512 [00:00&lt;00:00, 16.5kB/s]",
            "_view_count": null,
            "_view_module_version": "1.5.0",
            "description_tooltip": null,
            "_model_module": "@jupyter-widgets/controls",
            "layout": "IPY_MODEL_b5c04fa749ad44b0b4455c9aad3b24ca"
          }
        },
        "33c57f1715b74750b5403f4fe2a8e6bc": {
          "model_module": "@jupyter-widgets/controls",
          "model_name": "DescriptionStyleModel",
          "model_module_version": "1.5.0",
          "state": {
            "_view_name": "StyleView",
            "_model_name": "DescriptionStyleModel",
            "description_width": "",
            "_view_module": "@jupyter-widgets/base",
            "_model_module_version": "1.5.0",
            "_view_count": null,
            "_view_module_version": "1.2.0",
            "_model_module": "@jupyter-widgets/controls"
          }
        },
        "6bea1280be6442a5857d37ff5c82e9b9": {
          "model_module": "@jupyter-widgets/base",
          "model_name": "LayoutModel",
          "model_module_version": "1.2.0",
          "state": {
            "_view_name": "LayoutView",
            "grid_template_rows": null,
            "right": null,
            "justify_content": null,
            "_view_module": "@jupyter-widgets/base",
            "overflow": null,
            "_model_module_version": "1.2.0",
            "_view_count": null,
            "flex_flow": null,
            "width": null,
            "min_width": null,
            "border": null,
            "align_items": null,
            "bottom": null,
            "_model_module": "@jupyter-widgets/base",
            "top": null,
            "grid_column": null,
            "overflow_y": null,
            "overflow_x": null,
            "grid_auto_flow": null,
            "grid_area": null,
            "grid_template_columns": null,
            "flex": null,
            "_model_name": "LayoutModel",
            "justify_items": null,
            "grid_row": null,
            "max_height": null,
            "align_content": null,
            "visibility": null,
            "align_self": null,
            "height": null,
            "min_height": null,
            "padding": null,
            "grid_auto_rows": null,
            "grid_gap": null,
            "max_width": null,
            "order": null,
            "_view_module_version": "1.2.0",
            "grid_template_areas": null,
            "object_position": null,
            "object_fit": null,
            "grid_auto_columns": null,
            "margin": null,
            "display": null,
            "left": null
          }
        },
        "14eaffe70dfc417e8995670ae50b39b4": {
          "model_module": "@jupyter-widgets/controls",
          "model_name": "ProgressStyleModel",
          "model_module_version": "1.5.0",
          "state": {
            "_view_name": "StyleView",
            "_model_name": "ProgressStyleModel",
            "description_width": "",
            "_view_module": "@jupyter-widgets/base",
            "_model_module_version": "1.5.0",
            "_view_count": null,
            "_view_module_version": "1.2.0",
            "bar_color": null,
            "_model_module": "@jupyter-widgets/controls"
          }
        },
        "0cdea9da6a834cdeb29756adb47b368c": {
          "model_module": "@jupyter-widgets/base",
          "model_name": "LayoutModel",
          "model_module_version": "1.2.0",
          "state": {
            "_view_name": "LayoutView",
            "grid_template_rows": null,
            "right": null,
            "justify_content": null,
            "_view_module": "@jupyter-widgets/base",
            "overflow": null,
            "_model_module_version": "1.2.0",
            "_view_count": null,
            "flex_flow": null,
            "width": null,
            "min_width": null,
            "border": null,
            "align_items": null,
            "bottom": null,
            "_model_module": "@jupyter-widgets/base",
            "top": null,
            "grid_column": null,
            "overflow_y": null,
            "overflow_x": null,
            "grid_auto_flow": null,
            "grid_area": null,
            "grid_template_columns": null,
            "flex": null,
            "_model_name": "LayoutModel",
            "justify_items": null,
            "grid_row": null,
            "max_height": null,
            "align_content": null,
            "visibility": null,
            "align_self": null,
            "height": null,
            "min_height": null,
            "padding": null,
            "grid_auto_rows": null,
            "grid_gap": null,
            "max_width": null,
            "order": null,
            "_view_module_version": "1.2.0",
            "grid_template_areas": null,
            "object_position": null,
            "object_fit": null,
            "grid_auto_columns": null,
            "margin": null,
            "display": null,
            "left": null
          }
        },
        "bf09e6b5bd6e4529aa8ce0df9b89b26e": {
          "model_module": "@jupyter-widgets/controls",
          "model_name": "DescriptionStyleModel",
          "model_module_version": "1.5.0",
          "state": {
            "_view_name": "StyleView",
            "_model_name": "DescriptionStyleModel",
            "description_width": "",
            "_view_module": "@jupyter-widgets/base",
            "_model_module_version": "1.5.0",
            "_view_count": null,
            "_view_module_version": "1.2.0",
            "_model_module": "@jupyter-widgets/controls"
          }
        },
        "b5c04fa749ad44b0b4455c9aad3b24ca": {
          "model_module": "@jupyter-widgets/base",
          "model_name": "LayoutModel",
          "model_module_version": "1.2.0",
          "state": {
            "_view_name": "LayoutView",
            "grid_template_rows": null,
            "right": null,
            "justify_content": null,
            "_view_module": "@jupyter-widgets/base",
            "overflow": null,
            "_model_module_version": "1.2.0",
            "_view_count": null,
            "flex_flow": null,
            "width": null,
            "min_width": null,
            "border": null,
            "align_items": null,
            "bottom": null,
            "_model_module": "@jupyter-widgets/base",
            "top": null,
            "grid_column": null,
            "overflow_y": null,
            "overflow_x": null,
            "grid_auto_flow": null,
            "grid_area": null,
            "grid_template_columns": null,
            "flex": null,
            "_model_name": "LayoutModel",
            "justify_items": null,
            "grid_row": null,
            "max_height": null,
            "align_content": null,
            "visibility": null,
            "align_self": null,
            "height": null,
            "min_height": null,
            "padding": null,
            "grid_auto_rows": null,
            "grid_gap": null,
            "max_width": null,
            "order": null,
            "_view_module_version": "1.2.0",
            "grid_template_areas": null,
            "object_position": null,
            "object_fit": null,
            "grid_auto_columns": null,
            "margin": null,
            "display": null,
            "left": null
          }
        },
        "1f5f42e9946b431d897a504b49ce92ae": {
          "model_module": "@jupyter-widgets/controls",
          "model_name": "HBoxModel",
          "model_module_version": "1.5.0",
          "state": {
            "_view_name": "HBoxView",
            "_dom_classes": [],
            "_model_name": "HBoxModel",
            "_view_module": "@jupyter-widgets/controls",
            "_model_module_version": "1.5.0",
            "_view_count": null,
            "_view_module_version": "1.5.0",
            "box_style": "",
            "layout": "IPY_MODEL_5f5e3617a64e41c9a479fd7e1581857a",
            "_model_module": "@jupyter-widgets/controls",
            "children": [
              "IPY_MODEL_558bff68cb00475286c034204fd21bb0",
              "IPY_MODEL_f4ebe711d6804388abe434a727200099",
              "IPY_MODEL_d6341d86b51e4212b77d5c055ccdd52e"
            ]
          }
        },
        "5f5e3617a64e41c9a479fd7e1581857a": {
          "model_module": "@jupyter-widgets/base",
          "model_name": "LayoutModel",
          "model_module_version": "1.2.0",
          "state": {
            "_view_name": "LayoutView",
            "grid_template_rows": null,
            "right": null,
            "justify_content": null,
            "_view_module": "@jupyter-widgets/base",
            "overflow": null,
            "_model_module_version": "1.2.0",
            "_view_count": null,
            "flex_flow": null,
            "width": null,
            "min_width": null,
            "border": null,
            "align_items": null,
            "bottom": null,
            "_model_module": "@jupyter-widgets/base",
            "top": null,
            "grid_column": null,
            "overflow_y": null,
            "overflow_x": null,
            "grid_auto_flow": null,
            "grid_area": null,
            "grid_template_columns": null,
            "flex": null,
            "_model_name": "LayoutModel",
            "justify_items": null,
            "grid_row": null,
            "max_height": null,
            "align_content": null,
            "visibility": null,
            "align_self": null,
            "height": null,
            "min_height": null,
            "padding": null,
            "grid_auto_rows": null,
            "grid_gap": null,
            "max_width": null,
            "order": null,
            "_view_module_version": "1.2.0",
            "grid_template_areas": null,
            "object_position": null,
            "object_fit": null,
            "grid_auto_columns": null,
            "margin": null,
            "display": null,
            "left": null
          }
        },
        "558bff68cb00475286c034204fd21bb0": {
          "model_module": "@jupyter-widgets/controls",
          "model_name": "HTMLModel",
          "model_module_version": "1.5.0",
          "state": {
            "_view_name": "HTMLView",
            "style": "IPY_MODEL_0a04eef80e534fec9ce3b1c26e6593cf",
            "_dom_classes": [],
            "description": "",
            "_model_name": "HTMLModel",
            "placeholder": "​",
            "_view_module": "@jupyter-widgets/controls",
            "_model_module_version": "1.5.0",
            "value": "Downloading: 100%",
            "_view_count": null,
            "_view_module_version": "1.5.0",
            "description_tooltip": null,
            "_model_module": "@jupyter-widgets/controls",
            "layout": "IPY_MODEL_3ef242e7feab4c7a8c165e1c527d8711"
          }
        },
        "f4ebe711d6804388abe434a727200099": {
          "model_module": "@jupyter-widgets/controls",
          "model_name": "FloatProgressModel",
          "model_module_version": "1.5.0",
          "state": {
            "_view_name": "ProgressView",
            "style": "IPY_MODEL_0ef0ae814d314efc9fc988e9b9da02fc",
            "_dom_classes": [],
            "description": "",
            "_model_name": "FloatProgressModel",
            "bar_style": "success",
            "max": 1115590446,
            "_view_module": "@jupyter-widgets/controls",
            "_model_module_version": "1.5.0",
            "value": 1115590446,
            "_view_count": null,
            "_view_module_version": "1.5.0",
            "orientation": "horizontal",
            "min": 0,
            "description_tooltip": null,
            "_model_module": "@jupyter-widgets/controls",
            "layout": "IPY_MODEL_939cf972d216469496461c86644c524d"
          }
        },
        "d6341d86b51e4212b77d5c055ccdd52e": {
          "model_module": "@jupyter-widgets/controls",
          "model_name": "HTMLModel",
          "model_module_version": "1.5.0",
          "state": {
            "_view_name": "HTMLView",
            "style": "IPY_MODEL_93e79424ca33477dab76ad0d19baf3c2",
            "_dom_classes": [],
            "description": "",
            "_model_name": "HTMLModel",
            "placeholder": "​",
            "_view_module": "@jupyter-widgets/controls",
            "_model_module_version": "1.5.0",
            "value": " 1.04G/1.04G [00:26&lt;00:00, 41.3MB/s]",
            "_view_count": null,
            "_view_module_version": "1.5.0",
            "description_tooltip": null,
            "_model_module": "@jupyter-widgets/controls",
            "layout": "IPY_MODEL_925d28c5d121486e97c61e3bfb55783d"
          }
        },
        "0a04eef80e534fec9ce3b1c26e6593cf": {
          "model_module": "@jupyter-widgets/controls",
          "model_name": "DescriptionStyleModel",
          "model_module_version": "1.5.0",
          "state": {
            "_view_name": "StyleView",
            "_model_name": "DescriptionStyleModel",
            "description_width": "",
            "_view_module": "@jupyter-widgets/base",
            "_model_module_version": "1.5.0",
            "_view_count": null,
            "_view_module_version": "1.2.0",
            "_model_module": "@jupyter-widgets/controls"
          }
        },
        "3ef242e7feab4c7a8c165e1c527d8711": {
          "model_module": "@jupyter-widgets/base",
          "model_name": "LayoutModel",
          "model_module_version": "1.2.0",
          "state": {
            "_view_name": "LayoutView",
            "grid_template_rows": null,
            "right": null,
            "justify_content": null,
            "_view_module": "@jupyter-widgets/base",
            "overflow": null,
            "_model_module_version": "1.2.0",
            "_view_count": null,
            "flex_flow": null,
            "width": null,
            "min_width": null,
            "border": null,
            "align_items": null,
            "bottom": null,
            "_model_module": "@jupyter-widgets/base",
            "top": null,
            "grid_column": null,
            "overflow_y": null,
            "overflow_x": null,
            "grid_auto_flow": null,
            "grid_area": null,
            "grid_template_columns": null,
            "flex": null,
            "_model_name": "LayoutModel",
            "justify_items": null,
            "grid_row": null,
            "max_height": null,
            "align_content": null,
            "visibility": null,
            "align_self": null,
            "height": null,
            "min_height": null,
            "padding": null,
            "grid_auto_rows": null,
            "grid_gap": null,
            "max_width": null,
            "order": null,
            "_view_module_version": "1.2.0",
            "grid_template_areas": null,
            "object_position": null,
            "object_fit": null,
            "grid_auto_columns": null,
            "margin": null,
            "display": null,
            "left": null
          }
        },
        "0ef0ae814d314efc9fc988e9b9da02fc": {
          "model_module": "@jupyter-widgets/controls",
          "model_name": "ProgressStyleModel",
          "model_module_version": "1.5.0",
          "state": {
            "_view_name": "StyleView",
            "_model_name": "ProgressStyleModel",
            "description_width": "",
            "_view_module": "@jupyter-widgets/base",
            "_model_module_version": "1.5.0",
            "_view_count": null,
            "_view_module_version": "1.2.0",
            "bar_color": null,
            "_model_module": "@jupyter-widgets/controls"
          }
        },
        "939cf972d216469496461c86644c524d": {
          "model_module": "@jupyter-widgets/base",
          "model_name": "LayoutModel",
          "model_module_version": "1.2.0",
          "state": {
            "_view_name": "LayoutView",
            "grid_template_rows": null,
            "right": null,
            "justify_content": null,
            "_view_module": "@jupyter-widgets/base",
            "overflow": null,
            "_model_module_version": "1.2.0",
            "_view_count": null,
            "flex_flow": null,
            "width": null,
            "min_width": null,
            "border": null,
            "align_items": null,
            "bottom": null,
            "_model_module": "@jupyter-widgets/base",
            "top": null,
            "grid_column": null,
            "overflow_y": null,
            "overflow_x": null,
            "grid_auto_flow": null,
            "grid_area": null,
            "grid_template_columns": null,
            "flex": null,
            "_model_name": "LayoutModel",
            "justify_items": null,
            "grid_row": null,
            "max_height": null,
            "align_content": null,
            "visibility": null,
            "align_self": null,
            "height": null,
            "min_height": null,
            "padding": null,
            "grid_auto_rows": null,
            "grid_gap": null,
            "max_width": null,
            "order": null,
            "_view_module_version": "1.2.0",
            "grid_template_areas": null,
            "object_position": null,
            "object_fit": null,
            "grid_auto_columns": null,
            "margin": null,
            "display": null,
            "left": null
          }
        },
        "93e79424ca33477dab76ad0d19baf3c2": {
          "model_module": "@jupyter-widgets/controls",
          "model_name": "DescriptionStyleModel",
          "model_module_version": "1.5.0",
          "state": {
            "_view_name": "StyleView",
            "_model_name": "DescriptionStyleModel",
            "description_width": "",
            "_view_module": "@jupyter-widgets/base",
            "_model_module_version": "1.5.0",
            "_view_count": null,
            "_view_module_version": "1.2.0",
            "_model_module": "@jupyter-widgets/controls"
          }
        },
        "925d28c5d121486e97c61e3bfb55783d": {
          "model_module": "@jupyter-widgets/base",
          "model_name": "LayoutModel",
          "model_module_version": "1.2.0",
          "state": {
            "_view_name": "LayoutView",
            "grid_template_rows": null,
            "right": null,
            "justify_content": null,
            "_view_module": "@jupyter-widgets/base",
            "overflow": null,
            "_model_module_version": "1.2.0",
            "_view_count": null,
            "flex_flow": null,
            "width": null,
            "min_width": null,
            "border": null,
            "align_items": null,
            "bottom": null,
            "_model_module": "@jupyter-widgets/base",
            "top": null,
            "grid_column": null,
            "overflow_y": null,
            "overflow_x": null,
            "grid_auto_flow": null,
            "grid_area": null,
            "grid_template_columns": null,
            "flex": null,
            "_model_name": "LayoutModel",
            "justify_items": null,
            "grid_row": null,
            "max_height": null,
            "align_content": null,
            "visibility": null,
            "align_self": null,
            "height": null,
            "min_height": null,
            "padding": null,
            "grid_auto_rows": null,
            "grid_gap": null,
            "max_width": null,
            "order": null,
            "_view_module_version": "1.2.0",
            "grid_template_areas": null,
            "object_position": null,
            "object_fit": null,
            "grid_auto_columns": null,
            "margin": null,
            "display": null,
            "left": null
          }
        }
      }
    }
  },
  "nbformat": 4,
  "nbformat_minor": 0
}